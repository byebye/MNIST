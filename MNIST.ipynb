{
  "nbformat": 4,
  "nbformat_minor": 0,
  "metadata": {
    "colab": {
      "name": "MNIST.ipynb",
      "version": "0.3.2",
      "provenance": [],
      "collapsed_sections": [],
      "toc_visible": true
    },
    "kernelspec": {
      "name": "python3",
      "display_name": "Python 3"
    },
    "accelerator": "GPU"
  },
  "cells": [
    {
      "cell_type": "markdown",
      "metadata": {
        "id": "view-in-github",
        "colab_type": "text"
      },
      "source": [
        "[View in Colaboratory](https://colab.research.google.com/github/byebye/MNIST/blob/master/MNIST.ipynb)"
      ]
    },
    {
      "metadata": {
        "id": "G4LQtNNeoK3W",
        "colab_type": "text"
      },
      "cell_type": "markdown",
      "source": [
        "# Install PyTorch"
      ]
    },
    {
      "metadata": {
        "id": "w3JisYqPc3O2",
        "colab_type": "code",
        "colab": {
          "base_uri": "https://localhost:8080/",
          "height": 343
        },
        "outputId": "2c4e6be4-9e0c-4a37-94cf-23c1c502468c"
      },
      "cell_type": "code",
      "source": [
        "# https://pytorch.org/\n",
        "!pip3 install torch torchvision"
      ],
      "execution_count": 2,
      "outputs": [
        {
          "output_type": "stream",
          "text": [
            "Collecting torch\n",
            "\u001b[?25l  Downloading https://files.pythonhosted.org/packages/69/43/380514bd9663f1bf708abeb359b8b48d3fabb1c8e95bb3427a980a064c57/torch-0.4.0-cp36-cp36m-manylinux1_x86_64.whl (484.0MB)\n",
            "\u001b[K    100% |████████████████████████████████| 484.0MB 27kB/s \n",
            "tcmalloc: large alloc 1073750016 bytes == 0x5b73c000 @  0x7f18a472b1c4 0x46d6a4 0x5fcbcc 0x4c494d 0x54f3c4 0x553aaf 0x54e4c8 0x54f4f6 0x553aaf 0x54efc1 0x54f24d 0x553aaf 0x54efc1 0x54f24d 0x553aaf 0x54efc1 0x54f24d 0x551ee0 0x54e4c8 0x54f4f6 0x553aaf 0x54efc1 0x54f24d 0x551ee0 0x54efc1 0x54f24d 0x551ee0 0x54e4c8 0x54f4f6 0x553aaf 0x54e4c8\n",
            "\u001b[?25hCollecting torchvision\n",
            "\u001b[?25l  Downloading https://files.pythonhosted.org/packages/ca/0d/f00b2885711e08bd71242ebe7b96561e6f6d01fdb4b9dcf4d37e2e13c5e1/torchvision-0.2.1-py2.py3-none-any.whl (54kB)\n",
            "\u001b[K    100% |████████████████████████████████| 61kB 17.7MB/s \n",
            "\u001b[?25hRequirement already satisfied: numpy in /usr/local/lib/python3.6/dist-packages (from torchvision) (1.14.3)\n",
            "Collecting pillow>=4.1.1 (from torchvision)\n",
            "\u001b[?25l  Downloading https://files.pythonhosted.org/packages/5f/4b/8b54ab9d37b93998c81b364557dff9f61972c0f650efa0ceaf470b392740/Pillow-5.1.0-cp36-cp36m-manylinux1_x86_64.whl (2.0MB)\n",
            "\u001b[K    100% |████████████████████████████████| 2.0MB 15.8MB/s \n",
            "\u001b[?25hRequirement already satisfied: six in /usr/local/lib/python3.6/dist-packages (from torchvision) (1.11.0)\n",
            "Installing collected packages: torch, pillow, torchvision\n",
            "  Found existing installation: Pillow 4.0.0\n",
            "    Uninstalling Pillow-4.0.0:\n",
            "      Successfully uninstalled Pillow-4.0.0\n",
            "Successfully installed pillow-5.1.0 torch-0.4.0 torchvision-0.2.1\n"
          ],
          "name": "stdout"
        }
      ]
    },
    {
      "metadata": {
        "id": "ycmjnko8oRna",
        "colab_type": "text"
      },
      "cell_type": "markdown",
      "source": [
        "# Import PyTorch and check CUDA availability"
      ]
    },
    {
      "metadata": {
        "id": "hsFaGSqTlFd5",
        "colab_type": "code",
        "colab": {}
      },
      "cell_type": "code",
      "source": [
        "import torch\n",
        "import torch.nn as nn\n",
        "import torchvision.datasets as dsets\n",
        "import torchvision.transforms as transforms\n",
        "from torch import optim\n",
        "from torch.autograd import Variable\n",
        "\n",
        "use_cuda = True\n",
        "if use_cuda:\n",
        "  assert(torch.cuda.is_available())"
      ],
      "execution_count": 0,
      "outputs": []
    },
    {
      "metadata": {
        "id": "4aMz4RCOpIzN",
        "colab_type": "text"
      },
      "cell_type": "markdown",
      "source": [
        "# Load Kaggle MNIST dataset from Google Drive"
      ]
    },
    {
      "metadata": {
        "id": "S3ieQfzDe17_",
        "colab_type": "code",
        "colab": {}
      },
      "cell_type": "code",
      "source": [
        "# Install the PyDrive wrapper & import libraries.\n",
        "!pip install -U -q PyDrive\n",
        "from pydrive.auth import GoogleAuth\n",
        "from pydrive.drive import GoogleDrive\n",
        "from google.colab import auth\n",
        "from oauth2client.client import GoogleCredentials\n",
        "\n",
        "auth.authenticate_user()\n",
        "gauth = GoogleAuth()\n",
        "gauth.credentials = GoogleCredentials.get_application_default()\n",
        "drive = GoogleDrive(gauth)\n",
        "\n",
        "train_file_id = '12WsWKOlQ-IHlU4jK35xNJ3koG_CL6l5z'\n",
        "test_file_id = '12MIA-FGEU4Ahtyqd_lDarSF0_cNenOj1'\n",
        "\n",
        "train_file = drive.CreateFile({'id': train_file_id})\n",
        "test_file = drive.CreateFile({'id': test_file_id})\n",
        "\n",
        "test_file.GetContentFile('test.csv')\n",
        "train_file.GetContentFile('train.csv')"
      ],
      "execution_count": 0,
      "outputs": []
    },
    {
      "metadata": {
        "id": "c1eIr9yu68k0",
        "colab_type": "code",
        "colab": {}
      },
      "cell_type": "code",
      "source": [
        "import pandas as pd\n",
        "\n",
        "kaggle_train_file = pd.read_csv('train.csv', dtype='uint8')\n",
        "kaggle_test_file = pd.read_csv('test.csv', dtype='uint8')"
      ],
      "execution_count": 0,
      "outputs": []
    },
    {
      "metadata": {
        "id": "k3kEUGAG8GQ1",
        "colab_type": "code",
        "colab": {
          "base_uri": "https://localhost:8080/",
          "height": 53
        },
        "outputId": "ee62a69d-639a-4460-c67b-c57552c11c4e"
      },
      "cell_type": "code",
      "source": [
        "print(kaggle_train_file.shape)\n",
        "print(kaggle_test_file.shape)"
      ],
      "execution_count": 6,
      "outputs": [
        {
          "output_type": "stream",
          "text": [
            "(42000, 785)\n",
            "(28000, 784)\n"
          ],
          "name": "stdout"
        }
      ]
    },
    {
      "metadata": {
        "id": "Dfri8K1PD3fg",
        "colab_type": "code",
        "colab": {
          "base_uri": "https://localhost:8080/",
          "height": 35
        },
        "outputId": "c1b3cb36-06b3-4d00-e3f1-681c4f23cfd3"
      },
      "cell_type": "code",
      "source": [
        "Y = kaggle_train_file[\"label\"].values\n",
        "X = kaggle_train_file.drop(labels=[\"label\"], axis=1).values\n",
        "# Conv2d expects data of shape (N, C, H, W) where N is batch size,\n",
        "# C is channels, H is height, W is width\n",
        "X = X.reshape(-1, 1, 28, 28)\n",
        "del kaggle_train_file\n",
        "\n",
        "print(X.shape)"
      ],
      "execution_count": 7,
      "outputs": [
        {
          "output_type": "stream",
          "text": [
            "(42000, 1, 28, 28)\n"
          ],
          "name": "stdout"
        }
      ]
    },
    {
      "metadata": {
        "id": "f4XzmcTGOM4q",
        "colab_type": "code",
        "colab": {
          "base_uri": "https://localhost:8080/",
          "height": 421
        },
        "outputId": "f12a7aaa-b48e-4676-db8e-bc8f5f48afb7"
      },
      "cell_type": "code",
      "source": [
        "import seaborn as sns\n",
        "import numpy as np\n",
        "from matplotlib import pyplot as plt\n",
        "import itertools\n",
        "\n",
        "print(np.max(X), np.mean(X))\n",
        "#g = sns.countplot(X.flatten())\n",
        "h = sns.countplot(Y)\n",
        "# np.histogram(X, bins=np.array(range(256)))"
      ],
      "execution_count": 15,
      "outputs": [
        {
          "output_type": "stream",
          "text": [
            "255 33.408911169825075\n"
          ],
          "name": "stdout"
        },
        {
          "output_type": "stream",
          "text": [
            "/usr/local/lib/python3.6/dist-packages/seaborn/categorical.py:1428: FutureWarning: remove_na is deprecated and is a private function. Do not use.\n",
            "  stat_data = remove_na(group_data)\n"
          ],
          "name": "stderr"
        },
        {
          "output_type": "display_data",
          "data": {
            "image/png": "[encoded data removed]",
            "text/plain": [
              "<matplotlib.figure.Figure at 0x7f75b965a550>"
            ]
          },
          "metadata": {
            "tags": []
          }
        }
      ]
    },
    {
      "metadata": {
        "id": "8HPXKAY0obaM",
        "colab_type": "text"
      },
      "cell_type": "markdown",
      "source": [
        "# Initialize parameters"
      ]
    },
    {
      "metadata": {
        "id": "uJw0h7qSoBas",
        "colab_type": "code",
        "colab": {}
      },
      "cell_type": "code",
      "source": [
        "input_size    = 784   # The image size = 28 x 28 = 784\n",
        "num_classes   = 10    # The number of output classes. In this case, from 0 to 9\n",
        "num_epochs    = 20     # The number of times entire dataset is trained\n",
        "train_size = 38000\n",
        "validation_size = 4000\n",
        "batch_size    = 64    # The size of input data took for one iteration\n",
        "learning_rate = 1e-3  # The speed of convergence"
      ],
      "execution_count": 0,
      "outputs": []
    },
    {
      "metadata": {
        "id": "ONgmJUw1YAoe",
        "colab_type": "text"
      },
      "cell_type": "markdown",
      "source": [
        "# Split into training and validation sets"
      ]
    },
    {
      "metadata": {
        "id": "4uOCf28NFh6O",
        "colab_type": "code",
        "colab": {}
      },
      "cell_type": "code",
      "source": [
        "from sklearn.model_selection import train_test_split\n",
        "\n",
        "X_train, X_validation, Y_train, Y_validation = train_test_split(X, Y,\n",
        "                                                    train_size=train_size,\n",
        "                                                    test_size=validation_size,\n",
        "                                                    stratify=Y)"
      ],
      "execution_count": 0,
      "outputs": []
    },
    {
      "metadata": {
        "id": "EUC2U_XeZ33x",
        "colab_type": "code",
        "colab": {
          "base_uri": "https://localhost:8080/",
          "height": 403
        },
        "outputId": "9313253b-0389-462f-c59a-6f3f2cb58933"
      },
      "cell_type": "code",
      "source": [
        "h = sns.countplot(Y_train)"
      ],
      "execution_count": 12,
      "outputs": [
        {
          "output_type": "stream",
          "text": [
            "/usr/local/lib/python3.6/dist-packages/seaborn/categorical.py:1428: FutureWarning: remove_na is deprecated and is a private function. Do not use.\n",
            "  stat_data = remove_na(group_data)\n"
          ],
          "name": "stderr"
        },
        {
          "output_type": "display_data",
          "data": {
            "image/png": "[encoded data removed]",
            "text/plain": [
              "<matplotlib.figure.Figure at 0x7f75f11b1860>"
            ]
          },
          "metadata": {
            "tags": []
          }
        }
      ]
    },
    {
      "metadata": {
        "id": "5mRV1HTKZ6Al",
        "colab_type": "code",
        "colab": {
          "base_uri": "https://localhost:8080/",
          "height": 403
        },
        "outputId": "f757a6a9-e02a-4c17-a383-87dce65ba55d"
      },
      "cell_type": "code",
      "source": [
        "h = sns.countplot(Y_validation)"
      ],
      "execution_count": 13,
      "outputs": [
        {
          "output_type": "stream",
          "text": [
            "/usr/local/lib/python3.6/dist-packages/seaborn/categorical.py:1428: FutureWarning: remove_na is deprecated and is a private function. Do not use.\n",
            "  stat_data = remove_na(group_data)\n"
          ],
          "name": "stderr"
        },
        {
          "output_type": "display_data",
          "data": {
            "image/png": "[encoded data removed]",
            "text/plain": [
              "<matplotlib.figure.Figure at 0x7f75be2ffcc0>"
            ]
          },
          "metadata": {
            "tags": []
          }
        }
      ]
    },
    {
      "metadata": {
        "id": "MYti3Rnix-0b",
        "colab_type": "code",
        "colab": {
          "base_uri": "https://localhost:8080/",
          "height": 347
        },
        "outputId": "1590a905-16ee-48c4-ab0c-c6032975a29a"
      },
      "cell_type": "code",
      "source": [
        "g = plt.imshow(X_train[2][0,:,:])"
      ],
      "execution_count": 19,
      "outputs": [
        {
          "output_type": "display_data",
          "data": {
            "image/png": "[encoded data removed]",
            "text/plain": [
              "<matplotlib.figure.Figure at 0x7f75ad480748>"
            ]
          },
          "metadata": {
            "tags": []
          }
        }
      ]
    },
    {
      "metadata": {
        "id": "GZHaupLeYIRu",
        "colab_type": "text"
      },
      "cell_type": "markdown",
      "source": [
        "# Prepare dataset loaders"
      ]
    },
    {
      "metadata": {
        "id": "Fgkf60ZvEuBZ",
        "colab_type": "code",
        "colab": {}
      },
      "cell_type": "code",
      "source": [
        "from torch.utils.data import DataLoader\n",
        "from torch.utils.data.dataset import Dataset\n",
        "\n",
        "class MnistDataset(Dataset):\n",
        "    def __init__(self, X, Y=None):\n",
        "        self.X = torch.from_numpy(X / 255.0).float()\n",
        "        self.Y = None if Y is None else torch.from_numpy(Y).long()\n",
        "        self.len = len(X)\n",
        "\n",
        "    def __getitem__(self, i):\n",
        "        x = self.X[i]\n",
        "        if self.Y is None:\n",
        "            return x\n",
        "        y = self.Y[i]\n",
        "        return x, y\n",
        "\n",
        "    def __len__(self):\n",
        "        return self.len\n"
      ],
      "execution_count": 0,
      "outputs": []
    },
    {
      "metadata": {
        "id": "howtc9-sFCGm",
        "colab_type": "code",
        "colab": {}
      },
      "cell_type": "code",
      "source": [
        "train_dataset = MnistDataset(X_train, Y_train)\n",
        "validation_dataset = MnistDataset(X_validation, Y_validation)\n",
        "\n",
        "train_loader = DataLoader(\n",
        "    dataset=train_dataset, batch_size=batch_size, shuffle=True,\n",
        "    num_workers=4, pin_memory=True)\n",
        "\n",
        "validation_loader = DataLoader(\n",
        "    dataset=validation_dataset, batch_size=batch_size, shuffle=False,\n",
        "    num_workers=4, pin_memory=True)"
      ],
      "execution_count": 0,
      "outputs": []
    },
    {
      "metadata": {
        "id": "qj97J4d0ol0d",
        "colab_type": "text"
      },
      "cell_type": "markdown",
      "source": [
        "# Download MNIST Dataset from official website\n",
        "http://yann.lecun.com/exdb/mnist/"
      ]
    },
    {
      "metadata": {
        "id": "wbdoBXlLonoX",
        "colab_type": "code",
        "colab": {}
      },
      "cell_type": "code",
      "source": [
        "# train_dataset = dsets.MNIST(root='./data',\n",
        "#                            train=True,\n",
        "#                            transform=transforms.ToTensor(),\n",
        "#                            download=True)\n",
        "\n",
        "# test_dataset = dsets.MNIST(root='./data',\n",
        "#                            train=False,\n",
        "#                            transform=transforms.ToTensor())"
      ],
      "execution_count": 0,
      "outputs": []
    },
    {
      "metadata": {
        "id": "yfVKQOxxo3QB",
        "colab_type": "text"
      },
      "cell_type": "markdown",
      "source": [
        "# Load the Dataset\n",
        "\n",
        "**Note**: We shuffle the loading process of `train_dataset` to make the learning process independent of data order, but the order of `test_loader` remains so as to examine whether we can handle unspecified bias order of inputs.\n"
      ]
    },
    {
      "metadata": {
        "id": "4VrOJvCio5Sy",
        "colab_type": "code",
        "colab": {}
      },
      "cell_type": "code",
      "source": [
        "# train_loader = torch.utils.data.DataLoader(dataset=train_dataset,\n",
        "#                                           batch_size=batch_size,\n",
        "#                                           shuffle=True)\n",
        "\n",
        "# test_loader = torch.utils.data.DataLoader(dataset=test_dataset,\n",
        "#                                           batch_size=batch_size,\n",
        "#                                           shuffle=False)"
      ],
      "execution_count": 0,
      "outputs": []
    },
    {
      "metadata": {
        "id": "MAyuQNSFplH8",
        "colab_type": "text"
      },
      "cell_type": "markdown",
      "source": [
        "# Build Neural Network"
      ]
    },
    {
      "metadata": {
        "id": "JzXO9PtppkUE",
        "colab_type": "code",
        "colab": {}
      },
      "cell_type": "code",
      "source": [
        "class Flatten(nn.Module):\n",
        "    def forward(self, input):\n",
        "        return input.view(input.size(0), -1)\n",
        "\n",
        "\n",
        "def build_cnn():\n",
        "    return nn.Sequential(\n",
        "#         nn.BatchNorm2d(1),\n",
        "        nn.Conv2d(1, 32, 5),\n",
        "        nn.ReLU(),\n",
        "        nn.Conv2d(32, 32, 5),\n",
        "        nn.ReLU(),\n",
        "        nn.MaxPool2d((2, 2)),\n",
        "        nn.Dropout(0.25),\n",
        "\n",
        "        nn.Conv2d(32, 64, 3),\n",
        "        nn.ReLU(),\n",
        "        nn.Conv2d(64, 64, 3),\n",
        "        nn.ReLU(),\n",
        "        nn.MaxPool2d((2, 2)),\n",
        "        nn.Dropout(0.25),\n",
        "\n",
        "        Flatten(),\n",
        "        nn.Linear(576, 256),\n",
        "        nn.ReLU(),\n",
        "        nn.Dropout(p=0.5),\n",
        "        nn.Linear(256, 10),\n",
        "        nn.Softmax(dim=1))"
      ],
      "execution_count": 0,
      "outputs": []
    },
    {
      "metadata": {
        "id": "aLr1iNvgptlM",
        "colab_type": "text"
      },
      "cell_type": "markdown",
      "source": [
        "# Instantiate the CNN"
      ]
    },
    {
      "metadata": {
        "id": "rze3jz3xpzB3",
        "colab_type": "code",
        "colab": {}
      },
      "cell_type": "code",
      "source": [
        "net = build_cnn()\n",
        "if use_cuda:\n",
        "  net.cuda()"
      ],
      "execution_count": 0,
      "outputs": []
    },
    {
      "metadata": {
        "id": "2Tg-NCiipzuC",
        "colab_type": "code",
        "colab": {
          "base_uri": "https://localhost:8080/",
          "height": 433
        },
        "outputId": "43bef6c6-0a8e-4d3e-a08e-0bac04f191d2"
      },
      "cell_type": "code",
      "source": [
        "import torch.nn.init as init\n",
        "\n",
        "def weights_init(m):\n",
        "    classname = m.__class__.__name__\n",
        "    if classname.find('Conv') != -1:\n",
        "        init.xavier_uniform(m.weight, gain=init.calculate_gain('relu'))\n",
        "\n",
        "net.apply(weights_init)"
      ],
      "execution_count": 35,
      "outputs": [
        {
          "output_type": "stream",
          "text": [
            "/usr/local/lib/python3.6/dist-packages/ipykernel_launcher.py:6: UserWarning: nn.init.xavier_uniform is now deprecated in favor of nn.init.xavier_uniform_.\n",
            "  \n"
          ],
          "name": "stderr"
        },
        {
          "output_type": "execute_result",
          "data": {
            "text/plain": [
              "Sequential(\n",
              "  (0): Conv2d(1, 32, kernel_size=(5, 5), stride=(1, 1))\n",
              "  (1): ReLU()\n",
              "  (2): Conv2d(32, 32, kernel_size=(5, 5), stride=(1, 1))\n",
              "  (3): ReLU()\n",
              "  (4): MaxPool2d(kernel_size=(2, 2), stride=(2, 2), padding=0, dilation=1, ceil_mode=False)\n",
              "  (5): Dropout(p=0.25)\n",
              "  (6): Conv2d(32, 64, kernel_size=(3, 3), stride=(1, 1))\n",
              "  (7): ReLU()\n",
              "  (8): Conv2d(64, 64, kernel_size=(3, 3), stride=(1, 1))\n",
              "  (9): ReLU()\n",
              "  (10): MaxPool2d(kernel_size=(2, 2), stride=(2, 2), padding=0, dilation=1, ceil_mode=False)\n",
              "  (11): Dropout(p=0.25)\n",
              "  (12): Flatten()\n",
              "  (13): Linear(in_features=576, out_features=256, bias=True)\n",
              "  (14): ReLU()\n",
              "  (15): Dropout(p=0.5)\n",
              "  (16): Linear(in_features=256, out_features=10, bias=True)\n",
              "  (17): Softmax()\n",
              ")"
            ]
          },
          "metadata": {
            "tags": []
          },
          "execution_count": 35
        }
      ]
    },
    {
      "metadata": {
        "id": "thCyHKUWqJ3W",
        "colab_type": "text"
      },
      "cell_type": "markdown",
      "source": [
        "# Choose the Loss Function and Optimizer\n",
        "\n",
        "Loss function (**criterion**) decides how the output can be compared to a class, which determines how good or bad the neural network performs. And the **optimizer** chooses a way to update the weight in order to converge to find the best weights in this neural network."
      ]
    },
    {
      "metadata": {
        "id": "B2PoTMHfqNM3",
        "colab_type": "code",
        "colab": {}
      },
      "cell_type": "code",
      "source": [
        "criterion = nn.CrossEntropyLoss()\n",
        "# optimizer = torch.optim.Adam(net.parameters(), lr=learning_rate)\n",
        "\n",
        "optimizer = torch.optim.RMSprop(params=net.parameters(), lr=learning_rate)\n",
        "lr_scheduler = torch.optim.lr_scheduler.ReduceLROnPlateau(optimizer, factor=0.5,\n",
        "                                                    patience=3,\n",
        "                                                    min_lr=0.00001)"
      ],
      "execution_count": 0,
      "outputs": []
    },
    {
      "metadata": {
        "id": "0FcGyxM3qciu",
        "colab_type": "text"
      },
      "cell_type": "markdown",
      "source": [
        "# Training the CNN Model"
      ]
    },
    {
      "metadata": {
        "id": "OZ1tRP830IY4",
        "colab_type": "code",
        "colab": {}
      },
      "cell_type": "code",
      "source": [
        "predicted_train = []\n",
        "true_train = []\n",
        "predicted_test = []\n",
        "true_test = []\n",
        "\n",
        "def is_last_epoch(epoch):\n",
        "    return epoch + 1 == num_epochs"
      ],
      "execution_count": 0,
      "outputs": []
    },
    {
      "metadata": {
        "id": "uimrfqAatZRj",
        "colab_type": "code",
        "colab": {
          "base_uri": "https://localhost:8080/",
          "height": 35
        },
        "outputId": "f47c846d-4e74-4de9-f1a2-f221ce6a86ee"
      },
      "cell_type": "code",
      "source": [
        "!pip install tqdm\n",
        "from tqdm import tqdm"
      ],
      "execution_count": 38,
      "outputs": [
        {
          "output_type": "stream",
          "text": [
            "Requirement already satisfied: tqdm in /usr/local/lib/python3.6/dist-packages (4.23.3)\r\n"
          ],
          "name": "stdout"
        }
      ]
    },
    {
      "metadata": {
        "id": "1bF9KDUAHpo2",
        "colab_type": "code",
        "colab": {}
      },
      "cell_type": "code",
      "source": [
        "losses = []\n",
        "\n",
        "def train_net(epoch):\n",
        "    net.train()  # set the net to \"training mode\"\n",
        "    \n",
        "    for i, (images, labels) in enumerate(tqdm(train_loader, desc='Epoch #{} - Training'.format(epoch))):   # Load a batch of images with its (index, data, class)\n",
        "        \n",
        "        if use_cuda:\n",
        "            images = images.cuda()\n",
        "            labels = labels.cuda()\n",
        "        \n",
        "        optimizer.zero_grad()              # Intialize the hidden weight to all zeros\n",
        "        outputs = net(images)              # Forward pass: compute the output class given a image\n",
        "        loss = criterion(outputs, labels)  # Compute the loss: difference between the output class and the pre-given label\n",
        "        loss.backward()                    # Backward pass: compute the weight\n",
        "        optimizer.step()                   # Optimizer: update the weights of hidden nodes\n",
        "        \n",
        "        global losses\n",
        "        losses.append(loss.item())\n",
        "    print('Loss: {}'.format(losses[-1]))\n",
        "#         if (i+1) % 100 == 0:                              # Logging\n",
        "#             print('Epoch [%d/%d], Step [%d/%d], Loss: %.4f'\n",
        "#                  %(epoch+1, num_epochs, i+1, len(train_dataset)//batch_size, loss.data[0]))"
      ],
      "execution_count": 0,
      "outputs": []
    },
    {
      "metadata": {
        "id": "JP77KCH4H_ig",
        "colab_type": "code",
        "colab": {}
      },
      "cell_type": "code",
      "source": [
        "accuracy = []\n",
        "\n",
        "def validate_net(epoch):\n",
        "    net.eval()  # set the model to \"testing mode\" (won't update parameters)\n",
        "\n",
        "    correct = 0\n",
        "    total = 0\n",
        "    for images, labels in tqdm(validation_loader, desc='Epoch #{} - Validation'.format(epoch)):\n",
        "\n",
        "        if use_cuda:\n",
        "            images = images.cuda()\n",
        "            labels = labels.cuda()\n",
        "\n",
        "        outputs = net(images)\n",
        "        predicted = outputs.argmax(dim=1)              # Choose the best class from the output: the class with the best score\n",
        "        total += labels.size(0)                        # Increment the total count\n",
        "        correct += (predicted == labels).sum().item()  # Increment the correct count\n",
        "        \n",
        "        if is_last_epoch(epoch):\n",
        "            global predicted_test\n",
        "            global true_test\n",
        "            true_test += labels.cpu().numpy().tolist()\n",
        "            predicted_test += predicted.cpu().numpy().tolist()\n",
        "    \n",
        "    \n",
        "    acc = correct / total\n",
        "    lr_scheduler.step(acc)\n",
        "    global accuracy\n",
        "    accuracy.append(acc)\n",
        "    print('Accuracy: {}'.format(acc))"
      ],
      "execution_count": 0,
      "outputs": []
    },
    {
      "metadata": {
        "id": "_jW5sWaIqc_d",
        "colab_type": "code",
        "colab": {
          "base_uri": "https://localhost:8080/",
          "height": 3617
        },
        "outputId": "5c581f60-df8d-4048-f128-f5cf93e10eff"
      },
      "cell_type": "code",
      "source": [
        "num_epochs = 50\n",
        "for epoch in range(num_epochs):\n",
        "    train_net(epoch)\n",
        "    validate_net(epoch)"
      ],
      "execution_count": 64,
      "outputs": [
        {
          "output_type": "stream",
          "text": [
            "Epoch #0 - Training: 100%|██████████| 594/594 [00:07<00:00, 82.30it/s]\n",
            "Epoch #0 - Validation:   0%|          | 0/63 [00:00<?, ?it/s]"
          ],
          "name": "stderr"
        },
        {
          "output_type": "stream",
          "text": [
            "Loss: 1.48198401927948\n"
          ],
          "name": "stdout"
        },
        {
          "output_type": "stream",
          "text": [
            "Epoch #0 - Validation: 100%|██████████| 63/63 [00:00<00:00, 99.58it/s]\n",
            "Epoch #1 - Training:   0%|          | 0/594 [00:00<?, ?it/s]"
          ],
          "name": "stderr"
        },
        {
          "output_type": "stream",
          "text": [
            "Accuracy: 0.9905\n"
          ],
          "name": "stdout"
        },
        {
          "output_type": "stream",
          "text": [
            "Epoch #1 - Training: 100%|██████████| 594/594 [00:07<00:00, 79.34it/s]\n",
            "Epoch #1 - Validation:   0%|          | 0/63 [00:00<?, ?it/s]"
          ],
          "name": "stderr"
        },
        {
          "output_type": "stream",
          "text": [
            "Loss: 1.5236140489578247\n"
          ],
          "name": "stdout"
        },
        {
          "output_type": "stream",
          "text": [
            "Epoch #1 - Validation: 100%|██████████| 63/63 [00:00<00:00, 103.24it/s]\n",
            "Epoch #2 - Training:   0%|          | 0/594 [00:00<?, ?it/s]"
          ],
          "name": "stderr"
        },
        {
          "output_type": "stream",
          "text": [
            "Accuracy: 0.99\n"
          ],
          "name": "stdout"
        },
        {
          "output_type": "stream",
          "text": [
            "Epoch #2 - Training: 100%|██████████| 594/594 [00:07<00:00, 78.82it/s]\n",
            "Epoch #2 - Validation:   0%|          | 0/63 [00:00<?, ?it/s]"
          ],
          "name": "stderr"
        },
        {
          "output_type": "stream",
          "text": [
            "Loss: 1.4819841384887695\n"
          ],
          "name": "stdout"
        },
        {
          "output_type": "stream",
          "text": [
            "Epoch #2 - Validation: 100%|██████████| 63/63 [00:00<00:00, 106.02it/s]\n",
            "Epoch #3 - Training:   0%|          | 0/594 [00:00<?, ?it/s]"
          ],
          "name": "stderr"
        },
        {
          "output_type": "stream",
          "text": [
            "Accuracy: 0.99\n"
          ],
          "name": "stdout"
        },
        {
          "output_type": "stream",
          "text": [
            "Epoch #3 - Training: 100%|██████████| 594/594 [00:07<00:00, 78.82it/s]\n",
            "Epoch #3 - Validation:   0%|          | 0/63 [00:00<?, ?it/s]"
          ],
          "name": "stderr"
        },
        {
          "output_type": "stream",
          "text": [
            "Loss: 1.48198401927948\n"
          ],
          "name": "stdout"
        },
        {
          "output_type": "stream",
          "text": [
            "Epoch #3 - Validation: 100%|██████████| 63/63 [00:00<00:00, 103.38it/s]\n",
            "Epoch #4 - Training:   0%|          | 0/594 [00:00<?, ?it/s]"
          ],
          "name": "stderr"
        },
        {
          "output_type": "stream",
          "text": [
            "Accuracy: 0.98975\n"
          ],
          "name": "stdout"
        },
        {
          "output_type": "stream",
          "text": [
            "Epoch #4 - Training: 100%|██████████| 594/594 [00:07<00:00, 78.58it/s]\n",
            "Epoch #4 - Validation:   0%|          | 0/63 [00:00<?, ?it/s]"
          ],
          "name": "stderr"
        },
        {
          "output_type": "stream",
          "text": [
            "Loss: 1.4611506462097168\n"
          ],
          "name": "stdout"
        },
        {
          "output_type": "stream",
          "text": [
            "Epoch #4 - Validation: 100%|██████████| 63/63 [00:00<00:00, 104.74it/s]\n",
            "Epoch #5 - Training:   0%|          | 0/594 [00:00<?, ?it/s]"
          ],
          "name": "stderr"
        },
        {
          "output_type": "stream",
          "text": [
            "Accuracy: 0.99\n"
          ],
          "name": "stdout"
        },
        {
          "output_type": "stream",
          "text": [
            "Epoch #5 - Training: 100%|██████████| 594/594 [00:07<00:00, 78.33it/s]\n",
            "Epoch #5 - Validation:   0%|          | 0/63 [00:00<?, ?it/s]"
          ],
          "name": "stderr"
        },
        {
          "output_type": "stream",
          "text": [
            "Loss: 1.4668253660202026\n"
          ],
          "name": "stdout"
        },
        {
          "output_type": "stream",
          "text": [
            "Epoch #5 - Validation: 100%|██████████| 63/63 [00:00<00:00, 100.97it/s]\n",
            "Epoch #6 - Training:   0%|          | 0/594 [00:00<?, ?it/s]"
          ],
          "name": "stderr"
        },
        {
          "output_type": "stream",
          "text": [
            "Accuracy: 0.9905\n"
          ],
          "name": "stdout"
        },
        {
          "output_type": "stream",
          "text": [
            "Epoch #6 - Training: 100%|██████████| 594/594 [00:07<00:00, 78.83it/s]\n",
            "Epoch #6 - Validation:   0%|          | 0/63 [00:00<?, ?it/s]"
          ],
          "name": "stderr"
        },
        {
          "output_type": "stream",
          "text": [
            "Loss: 1.4611506462097168\n"
          ],
          "name": "stdout"
        },
        {
          "output_type": "stream",
          "text": [
            "Epoch #6 - Validation: 100%|██████████| 63/63 [00:00<00:00, 101.68it/s]\n",
            "Epoch #7 - Training:   0%|          | 0/594 [00:00<?, ?it/s]"
          ],
          "name": "stderr"
        },
        {
          "output_type": "stream",
          "text": [
            "Accuracy: 0.99\n"
          ],
          "name": "stdout"
        },
        {
          "output_type": "stream",
          "text": [
            "Epoch #7 - Training: 100%|██████████| 594/594 [00:07<00:00, 78.59it/s]\n",
            "Epoch #7 - Validation:   0%|          | 0/63 [00:00<?, ?it/s]"
          ],
          "name": "stderr"
        },
        {
          "output_type": "stream",
          "text": [
            "Loss: 1.4611506462097168\n"
          ],
          "name": "stdout"
        },
        {
          "output_type": "stream",
          "text": [
            "Epoch #7 - Validation: 100%|██████████| 63/63 [00:00<00:00, 101.52it/s]\n",
            "Epoch #8 - Training:   0%|          | 0/594 [00:00<?, ?it/s]"
          ],
          "name": "stderr"
        },
        {
          "output_type": "stream",
          "text": [
            "Accuracy: 0.9895\n"
          ],
          "name": "stdout"
        },
        {
          "output_type": "stream",
          "text": [
            "Epoch #8 - Training: 100%|██████████| 594/594 [00:07<00:00, 77.77it/s]\n",
            "Epoch #8 - Validation:   0%|          | 0/63 [00:00<?, ?it/s]"
          ],
          "name": "stderr"
        },
        {
          "output_type": "stream",
          "text": [
            "Loss: 1.4611506462097168\n"
          ],
          "name": "stdout"
        },
        {
          "output_type": "stream",
          "text": [
            "Epoch #8 - Validation: 100%|██████████| 63/63 [00:00<00:00, 103.84it/s]\n",
            "Epoch #9 - Training:   0%|          | 0/594 [00:00<?, ?it/s]"
          ],
          "name": "stderr"
        },
        {
          "output_type": "stream",
          "text": [
            "Accuracy: 0.99\n"
          ],
          "name": "stdout"
        },
        {
          "output_type": "stream",
          "text": [
            "Epoch #9 - Training: 100%|██████████| 594/594 [00:07<00:00, 79.53it/s]\n",
            "Epoch #9 - Validation:   0%|          | 0/63 [00:00<?, ?it/s]"
          ],
          "name": "stderr"
        },
        {
          "output_type": "stream",
          "text": [
            "Loss: 1.4819833040237427\n"
          ],
          "name": "stdout"
        },
        {
          "output_type": "stream",
          "text": [
            "Epoch #9 - Validation: 100%|██████████| 63/63 [00:00<00:00, 103.64it/s]\n",
            "Epoch #10 - Training:   0%|          | 0/594 [00:00<?, ?it/s]"
          ],
          "name": "stderr"
        },
        {
          "output_type": "stream",
          "text": [
            "Accuracy: 0.99025\n"
          ],
          "name": "stdout"
        },
        {
          "output_type": "stream",
          "text": [
            "Epoch #10 - Training: 100%|██████████| 594/594 [00:07<00:00, 79.33it/s]\n",
            "Epoch #10 - Validation:   0%|          | 0/63 [00:00<?, ?it/s]"
          ],
          "name": "stderr"
        },
        {
          "output_type": "stream",
          "text": [
            "Loss: 1.4611506462097168\n"
          ],
          "name": "stdout"
        },
        {
          "output_type": "stream",
          "text": [
            "Epoch #10 - Validation: 100%|██████████| 63/63 [00:00<00:00, 106.84it/s]\n",
            "Epoch #11 - Training:   0%|          | 0/594 [00:00<?, ?it/s]"
          ],
          "name": "stderr"
        },
        {
          "output_type": "stream",
          "text": [
            "Accuracy: 0.9905\n"
          ],
          "name": "stdout"
        },
        {
          "output_type": "stream",
          "text": [
            "Epoch #11 - Training: 100%|██████████| 594/594 [00:07<00:00, 79.17it/s]\n",
            "Epoch #11 - Validation:   0%|          | 0/63 [00:00<?, ?it/s]"
          ],
          "name": "stderr"
        },
        {
          "output_type": "stream",
          "text": [
            "Loss: 1.4815115928649902\n"
          ],
          "name": "stdout"
        },
        {
          "output_type": "stream",
          "text": [
            "Epoch #11 - Validation: 100%|██████████| 63/63 [00:00<00:00, 102.07it/s]\n",
            "Epoch #12 - Training:   0%|          | 0/594 [00:00<?, ?it/s]"
          ],
          "name": "stderr"
        },
        {
          "output_type": "stream",
          "text": [
            "Accuracy: 0.99025\n"
          ],
          "name": "stdout"
        },
        {
          "output_type": "stream",
          "text": [
            "Epoch #12 - Training: 100%|██████████| 594/594 [00:07<00:00, 79.61it/s]\n",
            "Epoch #12 - Validation:   0%|          | 0/63 [00:00<?, ?it/s]"
          ],
          "name": "stderr"
        },
        {
          "output_type": "stream",
          "text": [
            "Loss: 1.4775357246398926\n"
          ],
          "name": "stdout"
        },
        {
          "output_type": "stream",
          "text": [
            "Epoch #12 - Validation: 100%|██████████| 63/63 [00:00<00:00, 106.69it/s]\n",
            "Epoch #13 - Training:   0%|          | 0/594 [00:00<?, ?it/s]"
          ],
          "name": "stderr"
        },
        {
          "output_type": "stream",
          "text": [
            "Accuracy: 0.9905\n"
          ],
          "name": "stdout"
        },
        {
          "output_type": "stream",
          "text": [
            "Epoch #13 - Training: 100%|██████████| 594/594 [00:07<00:00, 79.24it/s]\n",
            "Epoch #13 - Validation:   0%|          | 0/63 [00:00<?, ?it/s]"
          ],
          "name": "stderr"
        },
        {
          "output_type": "stream",
          "text": [
            "Loss: 1.4611506462097168\n"
          ],
          "name": "stdout"
        },
        {
          "output_type": "stream",
          "text": [
            "Epoch #13 - Validation: 100%|██████████| 63/63 [00:00<00:00, 105.05it/s]\n",
            "Epoch #14 - Training:   0%|          | 0/594 [00:00<?, ?it/s]"
          ],
          "name": "stderr"
        },
        {
          "output_type": "stream",
          "text": [
            "Accuracy: 0.9905\n"
          ],
          "name": "stdout"
        },
        {
          "output_type": "stream",
          "text": [
            "Epoch #14 - Training: 100%|██████████| 594/594 [00:07<00:00, 79.45it/s]\n",
            "Epoch #14 - Validation:   0%|          | 0/63 [00:00<?, ?it/s]"
          ],
          "name": "stderr"
        },
        {
          "output_type": "stream",
          "text": [
            "Loss: 1.4611506462097168\n"
          ],
          "name": "stdout"
        },
        {
          "output_type": "stream",
          "text": [
            "Epoch #14 - Validation: 100%|██████████| 63/63 [00:00<00:00, 103.86it/s]\n",
            "Epoch #15 - Training:   0%|          | 0/594 [00:00<?, ?it/s]"
          ],
          "name": "stderr"
        },
        {
          "output_type": "stream",
          "text": [
            "Accuracy: 0.9905\n"
          ],
          "name": "stdout"
        },
        {
          "output_type": "stream",
          "text": [
            "Epoch #15 - Training: 100%|██████████| 594/594 [00:07<00:00, 79.03it/s]\n",
            "Epoch #15 - Validation:   0%|          | 0/63 [00:00<?, ?it/s]"
          ],
          "name": "stderr"
        },
        {
          "output_type": "stream",
          "text": [
            "Loss: 1.4611506462097168\n"
          ],
          "name": "stdout"
        },
        {
          "output_type": "stream",
          "text": [
            "Epoch #15 - Validation: 100%|██████████| 63/63 [00:00<00:00, 102.67it/s]\n",
            "Epoch #16 - Training:   0%|          | 0/594 [00:00<?, ?it/s]"
          ],
          "name": "stderr"
        },
        {
          "output_type": "stream",
          "text": [
            "Accuracy: 0.99\n"
          ],
          "name": "stdout"
        },
        {
          "output_type": "stream",
          "text": [
            "Epoch #16 - Training: 100%|██████████| 594/594 [00:07<00:00, 79.20it/s]\n",
            "Epoch #16 - Validation:   0%|          | 0/63 [00:00<?, ?it/s]"
          ],
          "name": "stderr"
        },
        {
          "output_type": "stream",
          "text": [
            "Loss: 1.48198401927948\n"
          ],
          "name": "stdout"
        },
        {
          "output_type": "stream",
          "text": [
            "Epoch #16 - Validation: 100%|██████████| 63/63 [00:00<00:00, 102.28it/s]\n",
            "Epoch #17 - Training:   0%|          | 0/594 [00:00<?, ?it/s]"
          ],
          "name": "stderr"
        },
        {
          "output_type": "stream",
          "text": [
            "Accuracy: 0.99025\n"
          ],
          "name": "stdout"
        },
        {
          "output_type": "stream",
          "text": [
            "Epoch #17 - Training: 100%|██████████| 594/594 [00:07<00:00, 78.21it/s]\n",
            "Epoch #17 - Validation:   0%|          | 0/63 [00:00<?, ?it/s]"
          ],
          "name": "stderr"
        },
        {
          "output_type": "stream",
          "text": [
            "Loss: 1.4611506462097168\n"
          ],
          "name": "stdout"
        },
        {
          "output_type": "stream",
          "text": [
            "Epoch #17 - Validation: 100%|██████████| 63/63 [00:00<00:00, 103.25it/s]\n",
            "Epoch #18 - Training:   0%|          | 0/594 [00:00<?, ?it/s]"
          ],
          "name": "stderr"
        },
        {
          "output_type": "stream",
          "text": [
            "Accuracy: 0.99\n"
          ],
          "name": "stdout"
        },
        {
          "output_type": "stream",
          "text": [
            "Epoch #18 - Training: 100%|██████████| 594/594 [00:07<00:00, 79.09it/s]\n",
            "Epoch #18 - Validation:   0%|          | 0/63 [00:00<?, ?it/s]"
          ],
          "name": "stderr"
        },
        {
          "output_type": "stream",
          "text": [
            "Loss: 1.4611506462097168\n"
          ],
          "name": "stdout"
        },
        {
          "output_type": "stream",
          "text": [
            "Epoch #18 - Validation: 100%|██████████| 63/63 [00:00<00:00, 107.33it/s]\n",
            "Epoch #19 - Training:   0%|          | 0/594 [00:00<?, ?it/s]"
          ],
          "name": "stderr"
        },
        {
          "output_type": "stream",
          "text": [
            "Accuracy: 0.98975\n"
          ],
          "name": "stdout"
        },
        {
          "output_type": "stream",
          "text": [
            "Epoch #19 - Training: 100%|██████████| 594/594 [00:07<00:00, 78.94it/s]\n",
            "Epoch #19 - Validation:   0%|          | 0/63 [00:00<?, ?it/s]"
          ],
          "name": "stderr"
        },
        {
          "output_type": "stream",
          "text": [
            "Loss: 1.48198401927948\n"
          ],
          "name": "stdout"
        },
        {
          "output_type": "stream",
          "text": [
            "Epoch #19 - Validation: 100%|██████████| 63/63 [00:00<00:00, 105.04it/s]\n",
            "Epoch #20 - Training:   0%|          | 0/594 [00:00<?, ?it/s]"
          ],
          "name": "stderr"
        },
        {
          "output_type": "stream",
          "text": [
            "Accuracy: 0.99\n"
          ],
          "name": "stdout"
        },
        {
          "output_type": "stream",
          "text": [
            "Epoch #20 - Training: 100%|██████████| 594/594 [00:07<00:00, 79.45it/s]\n",
            "Epoch #20 - Validation:   0%|          | 0/63 [00:00<?, ?it/s]"
          ],
          "name": "stderr"
        },
        {
          "output_type": "stream",
          "text": [
            "Loss: 1.4611506462097168\n"
          ],
          "name": "stdout"
        },
        {
          "output_type": "stream",
          "text": [
            "Epoch #20 - Validation: 100%|██████████| 63/63 [00:00<00:00, 101.72it/s]\n",
            "Epoch #21 - Training:   0%|          | 0/594 [00:00<?, ?it/s]"
          ],
          "name": "stderr"
        },
        {
          "output_type": "stream",
          "text": [
            "Accuracy: 0.99025\n"
          ],
          "name": "stdout"
        },
        {
          "output_type": "stream",
          "text": [
            "Epoch #21 - Training: 100%|██████████| 594/594 [00:07<00:00, 78.79it/s]\n",
            "Epoch #21 - Validation:   0%|          | 0/63 [00:00<?, ?it/s]"
          ],
          "name": "stderr"
        },
        {
          "output_type": "stream",
          "text": [
            "Loss: 1.4611506462097168\n"
          ],
          "name": "stdout"
        },
        {
          "output_type": "stream",
          "text": [
            "Epoch #21 - Validation: 100%|██████████| 63/63 [00:00<00:00, 104.95it/s]\n",
            "Epoch #22 - Training:   0%|          | 0/594 [00:00<?, ?it/s]"
          ],
          "name": "stderr"
        },
        {
          "output_type": "stream",
          "text": [
            "Accuracy: 0.9905\n"
          ],
          "name": "stdout"
        },
        {
          "output_type": "stream",
          "text": [
            "Epoch #22 - Training: 100%|██████████| 594/594 [00:07<00:00, 78.59it/s]\n",
            "Epoch #22 - Validation:   0%|          | 0/63 [00:00<?, ?it/s]"
          ],
          "name": "stderr"
        },
        {
          "output_type": "stream",
          "text": [
            "Loss: 1.4844870567321777\n"
          ],
          "name": "stdout"
        },
        {
          "output_type": "stream",
          "text": [
            "Epoch #22 - Validation: 100%|██████████| 63/63 [00:00<00:00, 102.97it/s]\n",
            "Epoch #23 - Training:   0%|          | 0/594 [00:00<?, ?it/s]"
          ],
          "name": "stderr"
        },
        {
          "output_type": "stream",
          "text": [
            "Accuracy: 0.99\n"
          ],
          "name": "stdout"
        },
        {
          "output_type": "stream",
          "text": [
            "Epoch #23 - Training: 100%|██████████| 594/594 [00:07<00:00, 79.08it/s]\n",
            "Epoch #23 - Validation:   0%|          | 0/63 [00:00<?, ?it/s]"
          ],
          "name": "stderr"
        },
        {
          "output_type": "stream",
          "text": [
            "Loss: 1.4611506462097168\n"
          ],
          "name": "stdout"
        },
        {
          "output_type": "stream",
          "text": [
            "Epoch #23 - Validation: 100%|██████████| 63/63 [00:00<00:00, 110.01it/s]\n",
            "Epoch #24 - Training:   0%|          | 0/594 [00:00<?, ?it/s]"
          ],
          "name": "stderr"
        },
        {
          "output_type": "stream",
          "text": [
            "Accuracy: 0.98975\n"
          ],
          "name": "stdout"
        },
        {
          "output_type": "stream",
          "text": [
            "Epoch #24 - Training: 100%|██████████| 594/594 [00:07<00:00, 79.21it/s]\n",
            "Epoch #24 - Validation:   0%|          | 0/63 [00:00<?, ?it/s]"
          ],
          "name": "stderr"
        },
        {
          "output_type": "stream",
          "text": [
            "Loss: 1.4817180633544922\n"
          ],
          "name": "stdout"
        },
        {
          "output_type": "stream",
          "text": [
            "Epoch #24 - Validation: 100%|██████████| 63/63 [00:00<00:00, 108.47it/s]\n",
            "Epoch #25 - Training:   0%|          | 0/594 [00:00<?, ?it/s]"
          ],
          "name": "stderr"
        },
        {
          "output_type": "stream",
          "text": [
            "Accuracy: 0.99025\n"
          ],
          "name": "stdout"
        },
        {
          "output_type": "stream",
          "text": [
            "Epoch #25 - Training: 100%|██████████| 594/594 [00:07<00:00, 78.78it/s]\n",
            "Epoch #25 - Validation:   0%|          | 0/63 [00:00<?, ?it/s]"
          ],
          "name": "stderr"
        },
        {
          "output_type": "stream",
          "text": [
            "Loss: 1.4819444417953491\n"
          ],
          "name": "stdout"
        },
        {
          "output_type": "stream",
          "text": [
            "Epoch #25 - Validation: 100%|██████████| 63/63 [00:00<00:00, 103.54it/s]\n",
            "Epoch #26 - Training:   0%|          | 0/594 [00:00<?, ?it/s]"
          ],
          "name": "stderr"
        },
        {
          "output_type": "stream",
          "text": [
            "Accuracy: 0.9905\n"
          ],
          "name": "stdout"
        },
        {
          "output_type": "stream",
          "text": [
            "Epoch #26 - Training: 100%|██████████| 594/594 [00:07<00:00, 79.08it/s]\n",
            "Epoch #26 - Validation:   0%|          | 0/63 [00:00<?, ?it/s]"
          ],
          "name": "stderr"
        },
        {
          "output_type": "stream",
          "text": [
            "Loss: 1.4819811582565308\n"
          ],
          "name": "stdout"
        },
        {
          "output_type": "stream",
          "text": [
            "Epoch #26 - Validation: 100%|██████████| 63/63 [00:00<00:00, 102.01it/s]\n",
            "Epoch #27 - Training:   0%|          | 0/594 [00:00<?, ?it/s]"
          ],
          "name": "stderr"
        },
        {
          "output_type": "stream",
          "text": [
            "Accuracy: 0.9905\n"
          ],
          "name": "stdout"
        },
        {
          "output_type": "stream",
          "text": [
            "Epoch #27 - Training: 100%|██████████| 594/594 [00:07<00:00, 79.40it/s]\n",
            "Epoch #27 - Validation:   0%|          | 0/63 [00:00<?, ?it/s]"
          ],
          "name": "stderr"
        },
        {
          "output_type": "stream",
          "text": [
            "Loss: 1.4611506462097168\n"
          ],
          "name": "stdout"
        },
        {
          "output_type": "stream",
          "text": [
            "Epoch #27 - Validation: 100%|██████████| 63/63 [00:00<00:00, 103.78it/s]\n",
            "Epoch #28 - Training:   0%|          | 0/594 [00:00<?, ?it/s]"
          ],
          "name": "stderr"
        },
        {
          "output_type": "stream",
          "text": [
            "Accuracy: 0.9905\n"
          ],
          "name": "stdout"
        },
        {
          "output_type": "stream",
          "text": [
            "Epoch #28 - Training: 100%|██████████| 594/594 [00:07<00:00, 78.63it/s]\n",
            "Epoch #28 - Validation:   0%|          | 0/63 [00:00<?, ?it/s]"
          ],
          "name": "stderr"
        },
        {
          "output_type": "stream",
          "text": [
            "Loss: 1.4611506462097168\n"
          ],
          "name": "stdout"
        },
        {
          "output_type": "stream",
          "text": [
            "Epoch #28 - Validation: 100%|██████████| 63/63 [00:00<00:00, 102.63it/s]\n",
            "Epoch #29 - Training:   0%|          | 0/594 [00:00<?, ?it/s]"
          ],
          "name": "stderr"
        },
        {
          "output_type": "stream",
          "text": [
            "Accuracy: 0.99025\n"
          ],
          "name": "stdout"
        },
        {
          "output_type": "stream",
          "text": [
            "Epoch #29 - Training: 100%|██████████| 594/594 [00:07<00:00, 79.65it/s]\n",
            "Epoch #29 - Validation:   0%|          | 0/63 [00:00<?, ?it/s]"
          ],
          "name": "stderr"
        },
        {
          "output_type": "stream",
          "text": [
            "Loss: 1.4819871187210083\n"
          ],
          "name": "stdout"
        },
        {
          "output_type": "stream",
          "text": [
            "Epoch #29 - Validation: 100%|██████████| 63/63 [00:00<00:00, 108.01it/s]\n",
            "Epoch #30 - Training:   0%|          | 0/594 [00:00<?, ?it/s]"
          ],
          "name": "stderr"
        },
        {
          "output_type": "stream",
          "text": [
            "Accuracy: 0.9905\n"
          ],
          "name": "stdout"
        },
        {
          "output_type": "stream",
          "text": [
            "Epoch #30 - Training: 100%|██████████| 594/594 [00:07<00:00, 78.95it/s]\n",
            "Epoch #30 - Validation:   0%|          | 0/63 [00:00<?, ?it/s]"
          ],
          "name": "stderr"
        },
        {
          "output_type": "stream",
          "text": [
            "Loss: 1.481978416442871\n"
          ],
          "name": "stdout"
        },
        {
          "output_type": "stream",
          "text": [
            "Epoch #30 - Validation: 100%|██████████| 63/63 [00:00<00:00, 100.60it/s]\n",
            "Epoch #31 - Training:   0%|          | 0/594 [00:00<?, ?it/s]"
          ],
          "name": "stderr"
        },
        {
          "output_type": "stream",
          "text": [
            "Accuracy: 0.99025\n"
          ],
          "name": "stdout"
        },
        {
          "output_type": "stream",
          "text": [
            "Epoch #31 - Training: 100%|██████████| 594/594 [00:07<00:00, 78.89it/s]\n",
            "Epoch #31 - Validation:   0%|          | 0/63 [00:00<?, ?it/s]"
          ],
          "name": "stderr"
        },
        {
          "output_type": "stream",
          "text": [
            "Loss: 1.4611506462097168\n"
          ],
          "name": "stdout"
        },
        {
          "output_type": "stream",
          "text": [
            "Epoch #31 - Validation: 100%|██████████| 63/63 [00:00<00:00, 108.84it/s]\n",
            "Epoch #32 - Training:   0%|          | 0/594 [00:00<?, ?it/s]"
          ],
          "name": "stderr"
        },
        {
          "output_type": "stream",
          "text": [
            "Accuracy: 0.98975\n"
          ],
          "name": "stdout"
        },
        {
          "output_type": "stream",
          "text": [
            "Epoch #32 - Training: 100%|██████████| 594/594 [00:07<00:00, 79.05it/s]\n",
            "Epoch #32 - Validation:   0%|          | 0/63 [00:00<?, ?it/s]"
          ],
          "name": "stderr"
        },
        {
          "output_type": "stream",
          "text": [
            "Loss: 1.48198401927948\n"
          ],
          "name": "stdout"
        },
        {
          "output_type": "stream",
          "text": [
            "Epoch #32 - Validation: 100%|██████████| 63/63 [00:00<00:00, 101.66it/s]\n",
            "Epoch #33 - Training:   0%|          | 0/594 [00:00<?, ?it/s]"
          ],
          "name": "stderr"
        },
        {
          "output_type": "stream",
          "text": [
            "Accuracy: 0.98975\n"
          ],
          "name": "stdout"
        },
        {
          "output_type": "stream",
          "text": [
            "Epoch #33 - Training: 100%|██████████| 594/594 [00:07<00:00, 78.89it/s]\n",
            "Epoch #33 - Validation:   0%|          | 0/63 [00:00<?, ?it/s]"
          ],
          "name": "stderr"
        },
        {
          "output_type": "stream",
          "text": [
            "Loss: 1.4611506462097168\n"
          ],
          "name": "stdout"
        },
        {
          "output_type": "stream",
          "text": [
            "Epoch #33 - Validation: 100%|██████████| 63/63 [00:00<00:00, 101.19it/s]\n",
            "Epoch #34 - Training:   0%|          | 0/594 [00:00<?, ?it/s]"
          ],
          "name": "stderr"
        },
        {
          "output_type": "stream",
          "text": [
            "Accuracy: 0.99\n"
          ],
          "name": "stdout"
        },
        {
          "output_type": "stream",
          "text": [
            "Epoch #34 - Training: 100%|██████████| 594/594 [00:07<00:00, 79.22it/s]\n",
            "Epoch #34 - Validation:   0%|          | 0/63 [00:00<?, ?it/s]"
          ],
          "name": "stderr"
        },
        {
          "output_type": "stream",
          "text": [
            "Loss: 1.5028172731399536\n"
          ],
          "name": "stdout"
        },
        {
          "output_type": "stream",
          "text": [
            "Epoch #34 - Validation: 100%|██████████| 63/63 [00:00<00:00, 103.53it/s]\n",
            "Epoch #35 - Training:   0%|          | 0/594 [00:00<?, ?it/s]"
          ],
          "name": "stderr"
        },
        {
          "output_type": "stream",
          "text": [
            "Accuracy: 0.98925\n"
          ],
          "name": "stdout"
        },
        {
          "output_type": "stream",
          "text": [
            "Epoch #35 - Training: 100%|██████████| 594/594 [00:07<00:00, 79.33it/s]\n",
            "Epoch #35 - Validation:   0%|          | 0/63 [00:00<?, ?it/s]"
          ],
          "name": "stderr"
        },
        {
          "output_type": "stream",
          "text": [
            "Loss: 1.502618432044983\n"
          ],
          "name": "stdout"
        },
        {
          "output_type": "stream",
          "text": [
            "Epoch #35 - Validation: 100%|██████████| 63/63 [00:00<00:00, 108.87it/s]\n",
            "Epoch #36 - Training:   0%|          | 0/594 [00:00<?, ?it/s]"
          ],
          "name": "stderr"
        },
        {
          "output_type": "stream",
          "text": [
            "Accuracy: 0.9895\n"
          ],
          "name": "stdout"
        },
        {
          "output_type": "stream",
          "text": [
            "Epoch #36 - Training: 100%|██████████| 594/594 [00:07<00:00, 79.52it/s]\n",
            "Epoch #36 - Validation:   0%|          | 0/63 [00:00<?, ?it/s]"
          ],
          "name": "stderr"
        },
        {
          "output_type": "stream",
          "text": [
            "Loss: 1.4969779253005981\n"
          ],
          "name": "stdout"
        },
        {
          "output_type": "stream",
          "text": [
            "Epoch #36 - Validation: 100%|██████████| 63/63 [00:00<00:00, 104.57it/s]\n",
            "Epoch #37 - Training:   0%|          | 0/594 [00:00<?, ?it/s]"
          ],
          "name": "stderr"
        },
        {
          "output_type": "stream",
          "text": [
            "Accuracy: 0.9895\n"
          ],
          "name": "stdout"
        },
        {
          "output_type": "stream",
          "text": [
            "Epoch #37 - Training: 100%|██████████| 594/594 [00:07<00:00, 79.13it/s]\n",
            "Epoch #37 - Validation:   0%|          | 0/63 [00:00<?, ?it/s]"
          ],
          "name": "stderr"
        },
        {
          "output_type": "stream",
          "text": [
            "Loss: 1.48198401927948\n"
          ],
          "name": "stdout"
        },
        {
          "output_type": "stream",
          "text": [
            "Epoch #37 - Validation: 100%|██████████| 63/63 [00:00<00:00, 105.22it/s]\n",
            "Epoch #38 - Training:   0%|          | 0/594 [00:00<?, ?it/s]"
          ],
          "name": "stderr"
        },
        {
          "output_type": "stream",
          "text": [
            "Accuracy: 0.98925\n"
          ],
          "name": "stdout"
        },
        {
          "output_type": "stream",
          "text": [
            "Epoch #38 - Training: 100%|██████████| 594/594 [00:07<00:00, 79.14it/s]\n",
            "Epoch #38 - Validation:   0%|          | 0/63 [00:00<?, ?it/s]"
          ],
          "name": "stderr"
        },
        {
          "output_type": "stream",
          "text": [
            "Loss: 1.4819755554199219\n"
          ],
          "name": "stdout"
        },
        {
          "output_type": "stream",
          "text": [
            "Epoch #38 - Validation: 100%|██████████| 63/63 [00:00<00:00, 108.42it/s]\n",
            "Epoch #39 - Training:   0%|          | 0/594 [00:00<?, ?it/s]"
          ],
          "name": "stderr"
        },
        {
          "output_type": "stream",
          "text": [
            "Accuracy: 0.9895\n"
          ],
          "name": "stdout"
        },
        {
          "output_type": "stream",
          "text": [
            "Epoch #39 - Training: 100%|██████████| 594/594 [00:07<00:00, 80.39it/s]\n",
            "Epoch #39 - Validation:   0%|          | 0/63 [00:00<?, ?it/s]"
          ],
          "name": "stderr"
        },
        {
          "output_type": "stream",
          "text": [
            "Loss: 1.502817153930664\n"
          ],
          "name": "stdout"
        },
        {
          "output_type": "stream",
          "text": [
            "Epoch #39 - Validation: 100%|██████████| 63/63 [00:00<00:00, 102.56it/s]\n",
            "Epoch #40 - Training:   0%|          | 0/594 [00:00<?, ?it/s]"
          ],
          "name": "stderr"
        },
        {
          "output_type": "stream",
          "text": [
            "Accuracy: 0.99\n"
          ],
          "name": "stdout"
        },
        {
          "output_type": "stream",
          "text": [
            "Epoch #40 - Training: 100%|██████████| 594/594 [00:07<00:00, 79.65it/s]\n",
            "Epoch #40 - Validation:   0%|          | 0/63 [00:00<?, ?it/s]"
          ],
          "name": "stderr"
        },
        {
          "output_type": "stream",
          "text": [
            "Loss: 1.4613524675369263\n"
          ],
          "name": "stdout"
        },
        {
          "output_type": "stream",
          "text": [
            "Epoch #40 - Validation: 100%|██████████| 63/63 [00:00<00:00, 104.08it/s]\n",
            "Epoch #41 - Training:   0%|          | 0/594 [00:00<?, ?it/s]"
          ],
          "name": "stderr"
        },
        {
          "output_type": "stream",
          "text": [
            "Accuracy: 0.9905\n"
          ],
          "name": "stdout"
        },
        {
          "output_type": "stream",
          "text": [
            "Epoch #41 - Training: 100%|██████████| 594/594 [00:07<00:00, 79.35it/s]\n",
            "Epoch #41 - Validation:   0%|          | 0/63 [00:00<?, ?it/s]"
          ],
          "name": "stderr"
        },
        {
          "output_type": "stream",
          "text": [
            "Loss: 1.4611506462097168\n"
          ],
          "name": "stdout"
        },
        {
          "output_type": "stream",
          "text": [
            "Epoch #41 - Validation: 100%|██████████| 63/63 [00:00<00:00, 105.91it/s]\n",
            "Epoch #42 - Training:   0%|          | 0/594 [00:00<?, ?it/s]"
          ],
          "name": "stderr"
        },
        {
          "output_type": "stream",
          "text": [
            "Accuracy: 0.98975\n"
          ],
          "name": "stdout"
        },
        {
          "output_type": "stream",
          "text": [
            "Epoch #42 - Training: 100%|██████████| 594/594 [00:07<00:00, 79.70it/s]\n",
            "Epoch #42 - Validation:   0%|          | 0/63 [00:00<?, ?it/s]"
          ],
          "name": "stderr"
        },
        {
          "output_type": "stream",
          "text": [
            "Loss: 1.5028095245361328\n"
          ],
          "name": "stdout"
        },
        {
          "output_type": "stream",
          "text": [
            "Epoch #42 - Validation: 100%|██████████| 63/63 [00:00<00:00, 104.26it/s]\n",
            "Epoch #43 - Training:   0%|          | 0/594 [00:00<?, ?it/s]"
          ],
          "name": "stderr"
        },
        {
          "output_type": "stream",
          "text": [
            "Accuracy: 0.99\n"
          ],
          "name": "stdout"
        },
        {
          "output_type": "stream",
          "text": [
            "Epoch #43 - Training: 100%|██████████| 594/594 [00:07<00:00, 79.85it/s]\n",
            "Epoch #43 - Validation:   0%|          | 0/63 [00:00<?, ?it/s]"
          ],
          "name": "stderr"
        },
        {
          "output_type": "stream",
          "text": [
            "Loss: 1.4819835424423218\n"
          ],
          "name": "stdout"
        },
        {
          "output_type": "stream",
          "text": [
            "Epoch #43 - Validation: 100%|██████████| 63/63 [00:00<00:00, 104.77it/s]\n",
            "Epoch #44 - Training:   0%|          | 0/594 [00:00<?, ?it/s]"
          ],
          "name": "stderr"
        },
        {
          "output_type": "stream",
          "text": [
            "Accuracy: 0.9895\n"
          ],
          "name": "stdout"
        },
        {
          "output_type": "stream",
          "text": [
            "Epoch #44 - Training: 100%|██████████| 594/594 [00:07<00:00, 78.75it/s]\n",
            "Epoch #44 - Validation:   0%|          | 0/63 [00:00<?, ?it/s]"
          ],
          "name": "stderr"
        },
        {
          "output_type": "stream",
          "text": [
            "Loss: 1.4611506462097168\n"
          ],
          "name": "stdout"
        },
        {
          "output_type": "stream",
          "text": [
            "Epoch #44 - Validation: 100%|██████████| 63/63 [00:00<00:00, 104.16it/s]\n",
            "Epoch #45 - Training:   0%|          | 0/594 [00:00<?, ?it/s]"
          ],
          "name": "stderr"
        },
        {
          "output_type": "stream",
          "text": [
            "Accuracy: 0.98975\n"
          ],
          "name": "stdout"
        },
        {
          "output_type": "stream",
          "text": [
            "Epoch #45 - Training: 100%|██████████| 594/594 [00:07<00:00, 78.47it/s]\n",
            "Epoch #45 - Validation:   0%|          | 0/63 [00:00<?, ?it/s]"
          ],
          "name": "stderr"
        },
        {
          "output_type": "stream",
          "text": [
            "Loss: 1.4611506462097168\n"
          ],
          "name": "stdout"
        },
        {
          "output_type": "stream",
          "text": [
            "Epoch #45 - Validation: 100%|██████████| 63/63 [00:00<00:00, 102.97it/s]\n",
            "Epoch #46 - Training:   0%|          | 0/594 [00:00<?, ?it/s]"
          ],
          "name": "stderr"
        },
        {
          "output_type": "stream",
          "text": [
            "Accuracy: 0.98975\n"
          ],
          "name": "stdout"
        },
        {
          "output_type": "stream",
          "text": [
            "Epoch #46 - Training: 100%|██████████| 594/594 [00:07<00:00, 78.70it/s]\n",
            "Epoch #46 - Validation:   0%|          | 0/63 [00:00<?, ?it/s]"
          ],
          "name": "stderr"
        },
        {
          "output_type": "stream",
          "text": [
            "Loss: 1.4611506462097168\n"
          ],
          "name": "stdout"
        },
        {
          "output_type": "stream",
          "text": [
            "Epoch #46 - Validation: 100%|██████████| 63/63 [00:00<00:00, 109.12it/s]\n",
            "Epoch #47 - Training:   0%|          | 0/594 [00:00<?, ?it/s]"
          ],
          "name": "stderr"
        },
        {
          "output_type": "stream",
          "text": [
            "Accuracy: 0.98975\n"
          ],
          "name": "stdout"
        },
        {
          "output_type": "stream",
          "text": [
            "Epoch #47 - Training: 100%|██████████| 594/594 [00:07<00:00, 79.71it/s]\n",
            "Epoch #47 - Validation:   0%|          | 0/63 [00:00<?, ?it/s]"
          ],
          "name": "stderr"
        },
        {
          "output_type": "stream",
          "text": [
            "Loss: 1.4616233110427856\n"
          ],
          "name": "stdout"
        },
        {
          "output_type": "stream",
          "text": [
            "Epoch #47 - Validation: 100%|██████████| 63/63 [00:00<00:00, 107.19it/s]\n",
            "Epoch #48 - Training:   0%|          | 0/594 [00:00<?, ?it/s]"
          ],
          "name": "stderr"
        },
        {
          "output_type": "stream",
          "text": [
            "Accuracy: 0.99\n"
          ],
          "name": "stdout"
        },
        {
          "output_type": "stream",
          "text": [
            "Epoch #48 - Training: 100%|██████████| 594/594 [00:07<00:00, 79.28it/s]\n",
            "Epoch #48 - Validation:   0%|          | 0/63 [00:00<?, ?it/s]"
          ],
          "name": "stderr"
        },
        {
          "output_type": "stream",
          "text": [
            "Loss: 1.4611506462097168\n"
          ],
          "name": "stdout"
        },
        {
          "output_type": "stream",
          "text": [
            "Epoch #48 - Validation: 100%|██████████| 63/63 [00:00<00:00, 104.61it/s]\n",
            "Epoch #49 - Training:   0%|          | 0/594 [00:00<?, ?it/s]"
          ],
          "name": "stderr"
        },
        {
          "output_type": "stream",
          "text": [
            "Accuracy: 0.99025\n"
          ],
          "name": "stdout"
        },
        {
          "output_type": "stream",
          "text": [
            "Epoch #49 - Training: 100%|██████████| 594/594 [00:07<00:00, 79.28it/s]\n",
            "Epoch #49 - Validation:   0%|          | 0/63 [00:00<?, ?it/s]"
          ],
          "name": "stderr"
        },
        {
          "output_type": "stream",
          "text": [
            "Loss: 1.48198401927948\n"
          ],
          "name": "stdout"
        },
        {
          "output_type": "stream",
          "text": [
            "Epoch #49 - Validation: 100%|██████████| 63/63 [00:00<00:00, 103.52it/s]"
          ],
          "name": "stderr"
        },
        {
          "output_type": "stream",
          "text": [
            "Accuracy: 0.9905\n"
          ],
          "name": "stdout"
        },
        {
          "output_type": "stream",
          "text": [
            "\n"
          ],
          "name": "stderr"
        }
      ]
    },
    {
      "metadata": {
        "id": "sdrhluBxy31s",
        "colab_type": "text"
      },
      "cell_type": "markdown",
      "source": [
        "# Plot the loss and accuracy curves for training and validation "
      ]
    },
    {
      "metadata": {
        "id": "4YuaMGURy2XZ",
        "colab_type": "code",
        "colab": {
          "base_uri": "https://localhost:8080/",
          "height": 347
        },
        "outputId": "0822058e-d993-42f8-c08e-dc95bff484b0"
      },
      "cell_type": "code",
      "source": [
        "\n",
        "fig, ax = plt.subplots(2,1)\n",
        "# ax[0].plot(history.history['loss'], color='b', label=\"Training loss\")\n",
        "ax[0].plot(losses, color='r', label=\"validation loss\",axes =ax[0])\n",
        "legend = ax[0].legend(loc='best', shadow=True)\n",
        "\n",
        "# ax[1].plot(history.history['acc'], color='b', label=\"Training accuracy\")\n",
        "ax[1].plot(accuracy, color='r',label=\"Validation accuracy\")\n",
        "legend = ax[1].legend(loc='best', shadow=True)"
      ],
      "execution_count": 65,
      "outputs": [
        {
          "output_type": "display_data",
          "data": {
            "image/png": "[encoded data removed]",
            "text/plain": [
              "<matplotlib.figure.Figure at 0x7f753f597a20>"
            ]
          },
          "metadata": {
            "tags": []
          }
        }
      ]
    },
    {
      "metadata": {
        "id": "m5igm_ErvLFb",
        "colab_type": "text"
      },
      "cell_type": "markdown",
      "source": [
        "# Plot Confusion Matrix"
      ]
    },
    {
      "metadata": {
        "id": "9-xenjk3vQ8Q",
        "colab_type": "code",
        "colab": {}
      },
      "cell_type": "code",
      "source": [
        "def plot_confusion_matrix(cm, classes, normalize=False,\n",
        "                          title='Confusion matrix', cmap=plt.cm.Blues,\n",
        "                          filesave=None):\n",
        "    \"\"\"\n",
        "    This function prints and plots the confusion matrix.\n",
        "    Normalization can be applied by setting `normalize=True`.\n",
        "    \"\"\"\n",
        "    np.set_printoptions(precision=2)\n",
        "    plt.figure(figsize=(7, 7))\n",
        "\n",
        "    if normalize:\n",
        "        cm = cm.astype('float') / cm.sum(axis=1)[:, np.newaxis]\n",
        "        print(\"Normalized confusion matrix\")\n",
        "    else:\n",
        "        print('Confusion matrix, without normalization')\n",
        "\n",
        "    plt.imshow(cm, interpolation='nearest', cmap=cmap)\n",
        "    plt.title(title)\n",
        "    plt.colorbar()\n",
        "    tick_marks = np.arange(len(classes))\n",
        "\n",
        "    plt.xticks(tick_marks, classes)\n",
        "\n",
        "    yticks = []\n",
        "    for i in (range(cm.shape[0])):\n",
        "        acc = cm[i, i] / np.sum(cm[i])\n",
        "        yticks.append(\"{} (acc={:.10f})\".format(i, acc))\n",
        "\n",
        "    plt.yticks(tick_marks, yticks)\n",
        "\n",
        "    fmt = '.2f' if normalize else 'd'\n",
        "    thresh = cm.max() / 2.\n",
        "    for i, j in itertools.product(range(cm.shape[0]), range(cm.shape[1])):\n",
        "        plt.text(j, i, format(cm[i, j], fmt),\n",
        "                 horizontalalignment=\"center\",\n",
        "                 color=\"white\" if cm[i, j] > thresh else \"black\")\n",
        "\n",
        "    plt.ylabel('True label')\n",
        "    plt.xlabel('Predicted label')\n",
        "\n",
        "    if filesave is None:\n",
        "        plt.tight_layout()\n",
        "#         plt.show()\n",
        "    else:\n",
        "        plt.savefig(filesave, bbox_inches='tight')"
      ],
      "execution_count": 0,
      "outputs": []
    },
    {
      "metadata": {
        "id": "lwBoXbFgvYY_",
        "colab_type": "code",
        "colab": {
          "base_uri": "https://localhost:8080/",
          "height": 527
        },
        "outputId": "43403b2a-14ad-4902-c4a2-09aa45e8f2fe"
      },
      "cell_type": "code",
      "source": [
        "from sklearn.metrics import confusion_matrix\n",
        "\n",
        "# cnf_matrix = confusion_matrix(true_train, predicted_train)\n",
        "# plot_confusion_matrix(cm=cnf_matrix, classes=list(range(10)),\n",
        "#                       title='Train data confusion matrix')\n",
        "\n",
        "cnf_matrix = confusion_matrix(true_test, predicted_test)\n",
        "plot_confusion_matrix(cm=cnf_matrix, classes=list(range(10)),\n",
        "                      title='Test data confusion matrix')"
      ],
      "execution_count": 67,
      "outputs": [
        {
          "output_type": "stream",
          "text": [
            "Confusion matrix, without normalization\n"
          ],
          "name": "stdout"
        },
        {
          "output_type": "display_data",
          "data": {
            "image/png": "[encoded data removed]",
            "text/plain": [
              "<matplotlib.figure.Figure at 0x7f75ad5c39e8>"
            ]
          },
          "metadata": {
            "tags": []
          }
        }
      ]
    },
    {
      "metadata": {
        "id": "SIodqU_Se6nJ",
        "colab_type": "text"
      },
      "cell_type": "markdown",
      "source": [
        "# Kaggle test"
      ]
    },
    {
      "metadata": {
        "id": "P1Y0cI2Ee9UF",
        "colab_type": "code",
        "colab": {
          "base_uri": "https://localhost:8080/",
          "height": 35
        },
        "outputId": "714872b3-6ede-41b5-c9c9-23e22df07b6e"
      },
      "cell_type": "code",
      "source": [
        "X = kaggle_test_file.values\n",
        "X = X.reshape(-1, 1, 28, 28)\n",
        "dataset = MnistDataset(X)\n",
        "\n",
        "test_loader = DataLoader(\n",
        "    dataset=dataset, batch_size=64, shuffle=False,\n",
        "    num_workers=4,\n",
        "    pin_memory=True)\n",
        "\n",
        "from io import StringIO\n",
        "file_str = StringIO()\n",
        "\n",
        "net.eval()\n",
        "\n",
        "file_str.write('ImageId,Label\\n')\n",
        "img_num = 1\n",
        "for i, x in enumerate(tqdm(test_loader)):\n",
        "    if use_cuda:\n",
        "        x = x.cuda()\n",
        "    y = net(x).argmax(dim=1)\n",
        "    for label in y:\n",
        "      file_str.write('{},{}\\n'.format(img_num, int(label)))\n",
        "      img_num += 1"
      ],
      "execution_count": 72,
      "outputs": [
        {
          "output_type": "stream",
          "text": [
            "100%|██████████| 438/438 [00:03<00:00, 132.19it/s]\n"
          ],
          "name": "stderr"
        }
      ]
    },
    {
      "metadata": {
        "id": "qumtCCSvjbP1",
        "colab_type": "code",
        "colab": {}
      },
      "cell_type": "code",
      "source": [
        "# Google Drive - create & upload a text file.\n",
        "uploaded = drive.CreateFile({'title':'kaggle_test.csv', 'mimeType':'text/csv',\n",
        "        \"parents\": [{\"kind\": \"drive#fileLink\",\"id\": '1b6OdXNGsbLOUFRHczLH6dJtgu5Pwlmcr'}]})\n",
        "uploaded.SetContentString(file_str.getvalue())\n",
        "uploaded.Upload()\n"
      ],
      "execution_count": 0,
      "outputs": []
    },
    {
      "metadata": {
        "id": "VavPSQTRisre",
        "colab_type": "code",
        "colab": {}
      },
      "cell_type": "code",
      "source": [
        "from google.colab import files\n",
        "\n",
        "with open('kaggle_test.csv', 'w') as f:\n",
        "  f.write(file_str.getvalue())\n",
        "\n",
        "files.download('kaggle_test.csv')"
      ],
      "execution_count": 0,
      "outputs": []
    },
    {
      "metadata": {
        "id": "DbgvVDUorDXO",
        "colab_type": "text"
      },
      "cell_type": "markdown",
      "source": [
        "# Testing the CNN Model\n",
        "\n",
        "Similar to training the neural network, we also need to load batches of test images and collect the outputs. The differences are that:\n",
        "\n",
        "1. No loss & weights calculation\n",
        "2. No weights update\n",
        "3. Has correct prediction calculation\n"
      ]
    },
    {
      "metadata": {
        "id": "vRvMlpuqrF1v",
        "colab_type": "code",
        "colab": {}
      },
      "cell_type": "code",
      "source": [
        "net.eval() \n",
        "correct = 0\n",
        "total = 0\n",
        "for images, labels in test_loader:\n",
        "    images = Variable(images.view(-1, 28*28))\n",
        "    \n",
        "    if use_cuda and torch.cuda.is_available():\n",
        "        images = images.cuda()\n",
        "        labels = labels.cuda()\n",
        "    \n",
        "    \n",
        "    outputs = net(images)\n",
        "    _, predicted = torch.max(outputs.data, 1)  # Choose the best class from the output: The class with the best score\n",
        "    total += labels.size(0)                    # Increment the total count\n",
        "    correct += (predicted == labels).sum()     # Increment the correct count\n",
        "    \n",
        "print('Accuracy of the network on the 10K test images: %d %%' % (100 * correct / total))"
      ],
      "execution_count": 0,
      "outputs": []
    },
    {
      "metadata": {
        "id": "uNm9PGL-rKSy",
        "colab_type": "text"
      },
      "cell_type": "markdown",
      "source": [
        "# Save the trained FNN Model for future use\n",
        "\n",
        "We save the trained model as a pickle that can be loaded and used later."
      ]
    },
    {
      "metadata": {
        "id": "uWBIPLxYrJRV",
        "colab_type": "code",
        "colab": {}
      },
      "cell_type": "code",
      "source": [
        "torch.save(net.state_dict(), 'cnn_model.pkl')"
      ],
      "execution_count": 0,
      "outputs": []
    }
  ]
}