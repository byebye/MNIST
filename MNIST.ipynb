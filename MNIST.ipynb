{
  "nbformat": 4,
  "nbformat_minor": 0,
  "metadata": {
    "colab": {
      "name": "MNIST.ipynb",
      "version": "0.3.2",
      "provenance": [],
      "collapsed_sections": [],
      "toc_visible": true
    },
    "kernelspec": {
      "name": "python3",
      "display_name": "Python 3"
    },
    "accelerator": "GPU"
  },
  "cells": [
    {
      "cell_type": "markdown",
      "metadata": {
        "id": "view-in-github",
        "colab_type": "text"
      },
      "source": [
        "[View in Colaboratory](https://colab.research.google.com/github/byebye/MNIST/blob/master/MNIST.ipynb)"
      ]
    },
    {
      "metadata": {
        "id": "G4LQtNNeoK3W",
        "colab_type": "text"
      },
      "cell_type": "markdown",
      "source": [
        "# Install PyTorch"
      ]
    },
    {
      "metadata": {
        "id": "w3JisYqPc3O2",
        "colab_type": "code",
        "colab": {
          "base_uri": "https://localhost:8080/",
          "height": 145
        },
        "outputId": "beaa361c-d9d5-49ef-88f2-8ee3e820e362"
      },
      "cell_type": "code",
      "source": [
        "# https://pytorch.org/\n",
        "!pip3 install torch torchvision"
      ],
      "execution_count": 1,
      "outputs": [
        {
          "output_type": "stream",
          "text": [
            "Requirement already satisfied: torch in /usr/local/lib/python3.6/dist-packages (0.3.0.post4)\r\n",
            "Requirement already satisfied: torchvision in /usr/local/lib/python3.6/dist-packages (0.2.1)\r\n",
            "Requirement already satisfied: numpy in /usr/local/lib/python3.6/dist-packages (from torch) (1.14.3)\r\n",
            "Requirement already satisfied: pyyaml in /usr/local/lib/python3.6/dist-packages (from torch) (3.12)\r\n",
            "Requirement already satisfied: pillow>=4.1.1 in /usr/local/lib/python3.6/dist-packages (from torchvision) (5.1.0)\r\n",
            "Requirement already satisfied: six in /usr/local/lib/python3.6/dist-packages (from torchvision) (1.11.0)\r\n"
          ],
          "name": "stdout"
        }
      ]
    },
    {
      "metadata": {
        "id": "ycmjnko8oRna",
        "colab_type": "text"
      },
      "cell_type": "markdown",
      "source": [
        "# Import PyTorch and check CUDA availability"
      ]
    },
    {
      "metadata": {
        "id": "hsFaGSqTlFd5",
        "colab_type": "code",
        "colab": {}
      },
      "cell_type": "code",
      "source": [
        "import torch\n",
        "import torch.nn as nn\n",
        "import torchvision.datasets as dsets\n",
        "import torchvision.transforms as transforms\n",
        "from torch import optim\n",
        "from torch.autograd import Variable\n",
        "\n",
        "use_cuda = True\n",
        "if use_cuda:\n",
        "  assert(torch.cuda.is_available())"
      ],
      "execution_count": 0,
      "outputs": []
    },
    {
      "metadata": {
        "id": "8HPXKAY0obaM",
        "colab_type": "text"
      },
      "cell_type": "markdown",
      "source": [
        "# Initialize parameters"
      ]
    },
    {
      "metadata": {
        "id": "uJw0h7qSoBas",
        "colab_type": "code",
        "colab": {}
      },
      "cell_type": "code",
      "source": [
        "input_size    = 784   # The image size = 28 x 28 = 784\n",
        "num_classes   = 10    # The number of output classes. In this case, from 0 to 9\n",
        "num_epochs    = 20     # The number of times entire dataset is trained\n",
        "train_size = 38000\n",
        "validation_size = 4000\n",
        "batch_size    = 64    # The size of input data took for one iteration\n",
        "learning_rate = 1e-3  # The speed of convergence"
      ],
      "execution_count": 0,
      "outputs": []
    },
    {
      "metadata": {
        "id": "4aMz4RCOpIzN",
        "colab_type": "text"
      },
      "cell_type": "markdown",
      "source": [
        "# Load Kaggle MNIST dataset from Google Drive"
      ]
    },
    {
      "metadata": {
        "id": "S3ieQfzDe17_",
        "colab_type": "code",
        "colab": {}
      },
      "cell_type": "code",
      "source": [
        "# Install the PyDrive wrapper & import libraries.\n",
        "!pip install -U -q PyDrive\n",
        "from pydrive.auth import GoogleAuth\n",
        "from pydrive.drive import GoogleDrive\n",
        "from google.colab import auth\n",
        "from oauth2client.client import GoogleCredentials\n",
        "\n",
        "auth.authenticate_user()\n",
        "gauth = GoogleAuth()\n",
        "gauth.credentials = GoogleCredentials.get_application_default()\n",
        "drive = GoogleDrive(gauth)\n",
        "\n",
        "train_file_id = '12WsWKOlQ-IHlU4jK35xNJ3koG_CL6l5z'\n",
        "test_file_id = '12MIA-FGEU4Ahtyqd_lDarSF0_cNenOj1'\n",
        "\n",
        "train_file = drive.CreateFile({'id': train_file_id})\n",
        "test_file = drive.CreateFile({'id': test_file_id})\n",
        "\n",
        "# Create & upload a text file.\n",
        "# uploaded = drive.CreateFile({'title': 'Sample file.txt'})\n",
        "# uploaded.SetContentString('Sample upload file content')\n",
        "# uploaded.Upload()\n",
        "test_file.GetContentFile('test.csv')\n",
        "train_file.GetContentFile('train.csv')"
      ],
      "execution_count": 0,
      "outputs": []
    },
    {
      "metadata": {
        "id": "c1eIr9yu68k0",
        "colab_type": "code",
        "colab": {}
      },
      "cell_type": "code",
      "source": [
        "import pandas as pd\n",
        "\n",
        "kaggle_train_file = pd.read_csv('train.csv', dtype='uint8')\n",
        "kaggle_test_file = pd.read_csv('test.csv', dtype='uint8')"
      ],
      "execution_count": 0,
      "outputs": []
    },
    {
      "metadata": {
        "id": "k3kEUGAG8GQ1",
        "colab_type": "code",
        "colab": {
          "base_uri": "https://localhost:8080/",
          "height": 53
        },
        "outputId": "6ccc94a1-8ba7-4b49-813a-a0d76ebc0f5e"
      },
      "cell_type": "code",
      "source": [
        "print(kaggle_train_file.shape)\n",
        "print(kaggle_test_file.shape)"
      ],
      "execution_count": 6,
      "outputs": [
        {
          "output_type": "stream",
          "text": [
            "(42000, 785)\n",
            "(28000, 784)\n"
          ],
          "name": "stdout"
        }
      ]
    },
    {
      "metadata": {
        "id": "Dfri8K1PD3fg",
        "colab_type": "code",
        "colab": {}
      },
      "cell_type": "code",
      "source": [
        "Y = kaggle_train_file[\"label\"].values\n",
        "X = kaggle_train_file.drop(labels=[\"label\"], axis=1).values\n",
        "X = X.reshape(-1, 1, 28, 28)\n",
        "del kaggle_train_file"
      ],
      "execution_count": 0,
      "outputs": []
    },
    {
      "metadata": {
        "id": "f4XzmcTGOM4q",
        "colab_type": "code",
        "colab": {
          "base_uri": "https://localhost:8080/",
          "height": 35
        },
        "outputId": "04749290-c934-49fc-8cd1-f4b5f17cc129"
      },
      "cell_type": "code",
      "source": [
        "import seaborn as sns\n",
        "import numpy as np\n",
        "\n",
        "print(np.max(X),np.mean(X))\n",
        "#g = sns.countplot(X.flatten())\n",
        "#h = sns.countplot(Y)\n",
        "# np.histogram(X, bins=np.array(range(256)))"
      ],
      "execution_count": 28,
      "outputs": [
        {
          "output_type": "stream",
          "text": [
            "255 33.408911169825075\n"
          ],
          "name": "stdout"
        }
      ]
    },
    {
      "metadata": {
        "id": "4uOCf28NFh6O",
        "colab_type": "code",
        "colab": {
          "base_uri": "https://localhost:8080/",
          "height": 35
        },
        "outputId": "997168b2-f516-493e-dfbb-376805578948"
      },
      "cell_type": "code",
      "source": [
        "#X = X.reshape(-1, 1, 28, 28)\n",
        "print(X.shape)\n",
        "\n",
        "from sklearn.model_selection import train_test_split\n",
        "X_train, X_validation, Y_train, Y_validation = train_test_split(X, Y,\n",
        "                                                    train_size=train_size,\n",
        "                                                    test_size=validation_size,\n",
        "                                                    stratify=Y)"
      ],
      "execution_count": 29,
      "outputs": [
        {
          "output_type": "stream",
          "text": [
            "(42000, 1, 28, 28)\n"
          ],
          "name": "stdout"
        }
      ]
    },
    {
      "metadata": {
        "id": "MYti3Rnix-0b",
        "colab_type": "code",
        "colab": {
          "base_uri": "https://localhost:8080/",
          "height": 365
        },
        "outputId": "16f9651f-836c-406b-b7e5-5d1fb852f94b"
      },
      "cell_type": "code",
      "source": [
        "g = plt.imshow(X_train[0][0,:,:])"
      ],
      "execution_count": 66,
      "outputs": [
        {
          "output_type": "stream",
          "text": [
            "(28, 28)\n"
          ],
          "name": "stdout"
        },
        {
          "output_type": "display_data",
          "data": {
            "image/png": "[encoded data removed]",
            "text/plain": [
              "<matplotlib.figure.Figure at 0x7f053549c198>"
            ]
          },
          "metadata": {
            "tags": []
          }
        }
      ]
    },
    {
      "metadata": {
        "id": "Fgkf60ZvEuBZ",
        "colab_type": "code",
        "colab": {}
      },
      "cell_type": "code",
      "source": [
        "from torch.utils.data import DataLoader\n",
        "from torch.utils.data.dataset import Dataset\n",
        "\n",
        "class MnistDataset(Dataset):\n",
        "    def __init__(self, X, Y=None):\n",
        "        self.X = torch.from_numpy(X / 255.0).float()\n",
        "        self.Y = None\n",
        "        if Y is not None:\n",
        "            self.Y = torch.from_numpy(Y)\n",
        "        self.len = len(X)\n",
        "\n",
        "    def __getitem__(self, i):\n",
        "        x = self.X[i]\n",
        "        if self.Y is None:\n",
        "            return x\n",
        "        y = self.Y[i]\n",
        "        return x, y\n",
        "\n",
        "    def __len__(self):\n",
        "        return self.len\n"
      ],
      "execution_count": 0,
      "outputs": []
    },
    {
      "metadata": {
        "id": "howtc9-sFCGm",
        "colab_type": "code",
        "colab": {}
      },
      "cell_type": "code",
      "source": [
        "train_dataset = MnistDataset(X_train, Y_train)\n",
        "validation_dataset = MnistDataset(X_validation, Y_validation)\n",
        "\n",
        "train_loader = DataLoader(\n",
        "    dataset=train_dataset, batch_size=batch_size, shuffle=True,\n",
        "    num_workers=4, pin_memory=True)\n",
        "\n",
        "validation_loader = DataLoader(\n",
        "    dataset=validation_dataset, batch_size=batch_size, shuffle=False,\n",
        "    num_workers=4, pin_memory=True)"
      ],
      "execution_count": 0,
      "outputs": []
    },
    {
      "metadata": {
        "id": "qj97J4d0ol0d",
        "colab_type": "text"
      },
      "cell_type": "markdown",
      "source": [
        "# Download MNIST Dataset from official website\n",
        "http://yann.lecun.com/exdb/mnist/"
      ]
    },
    {
      "metadata": {
        "id": "wbdoBXlLonoX",
        "colab_type": "code",
        "colab": {}
      },
      "cell_type": "code",
      "source": [
        "# train_dataset = dsets.MNIST(root='./data',\n",
        "#                            train=True,\n",
        "#                            transform=transforms.ToTensor(),\n",
        "#                            download=True)\n",
        "\n",
        "# test_dataset = dsets.MNIST(root='./data',\n",
        "#                            train=False,\n",
        "#                            transform=transforms.ToTensor())"
      ],
      "execution_count": 0,
      "outputs": []
    },
    {
      "metadata": {
        "id": "yfVKQOxxo3QB",
        "colab_type": "text"
      },
      "cell_type": "markdown",
      "source": [
        "# Load the Dataset\n",
        "\n",
        "**Note**: We shuffle the loading process of `train_dataset` to make the learning process independent of data order, but the order of `test_loader` remains so as to examine whether we can handle unspecified bias order of inputs.\n"
      ]
    },
    {
      "metadata": {
        "id": "4VrOJvCio5Sy",
        "colab_type": "code",
        "colab": {}
      },
      "cell_type": "code",
      "source": [
        "# train_loader = torch.utils.data.DataLoader(dataset=train_dataset,\n",
        "#                                           batch_size=batch_size,\n",
        "#                                           shuffle=True)\n",
        "\n",
        "# test_loader = torch.utils.data.DataLoader(dataset=test_dataset,\n",
        "#                                           batch_size=batch_size,\n",
        "#                                           shuffle=False)"
      ],
      "execution_count": 0,
      "outputs": []
    },
    {
      "metadata": {
        "id": "MAyuQNSFplH8",
        "colab_type": "text"
      },
      "cell_type": "markdown",
      "source": [
        "# Build Neural Network"
      ]
    },
    {
      "metadata": {
        "id": "JzXO9PtppkUE",
        "colab_type": "code",
        "colab": {}
      },
      "cell_type": "code",
      "source": [
        "class Flatten(nn.Module):\n",
        "    def forward(self, input):\n",
        "        return input.view(input.size(0), -1)\n",
        "\n",
        "\n",
        "def build_cnn():\n",
        "    return nn.Sequential(\n",
        "#         nn.BatchNorm2d(1),\n",
        "        nn.Conv2d(1, 32, 5),\n",
        "        nn.ReLU(),\n",
        "        nn.Conv2d(32, 32, 5),\n",
        "        nn.ReLU(),\n",
        "        nn.MaxPool2d((2, 2)),\n",
        "        nn.Dropout(0.25),\n",
        "\n",
        "        nn.Conv2d(32, 64, 3),\n",
        "        nn.ReLU(),\n",
        "        nn.Conv2d(64, 64, 3),\n",
        "        nn.ReLU(),\n",
        "        nn.MaxPool2d((2, 2)),\n",
        "        nn.Dropout(0.25),\n",
        "\n",
        "        Flatten(),\n",
        "        nn.Linear(576, 256),\n",
        "        nn.ReLU(),\n",
        "        nn.Dropout(p=0.5),\n",
        "        nn.Linear(256, 10),\n",
        "        nn.Softmax(dim=1))"
      ],
      "execution_count": 0,
      "outputs": []
    },
    {
      "metadata": {
        "id": "aLr1iNvgptlM",
        "colab_type": "text"
      },
      "cell_type": "markdown",
      "source": [
        "# Instantiate the CNN"
      ]
    },
    {
      "metadata": {
        "id": "rze3jz3xpzB3",
        "colab_type": "code",
        "colab": {}
      },
      "cell_type": "code",
      "source": [
        "net = build_cnn()\n",
        "if use_cuda:\n",
        "  net.cuda()"
      ],
      "execution_count": 0,
      "outputs": []
    },
    {
      "metadata": {
        "id": "2Tg-NCiipzuC",
        "colab_type": "code",
        "colab": {
          "base_uri": "https://localhost:8080/",
          "height": 395
        },
        "outputId": "4b4363d8-2eb8-4fab-fbc8-09211a279cb8"
      },
      "cell_type": "code",
      "source": [
        "import torch.nn.init as init\n",
        "\n",
        "def weights_init(m):\n",
        "    classname = m.__class__.__name__\n",
        "    if classname.find('Conv') != -1:\n",
        "        init.xavier_uniform(m.weight, gain=init.calculate_gain('relu'))\n",
        "\n",
        "net.apply(weights_init)"
      ],
      "execution_count": 34,
      "outputs": [
        {
          "output_type": "execute_result",
          "data": {
            "text/plain": [
              "Sequential(\n",
              "  (0): Conv2d (1, 32, kernel_size=(5, 5), stride=(1, 1))\n",
              "  (1): ReLU()\n",
              "  (2): Conv2d (32, 32, kernel_size=(5, 5), stride=(1, 1))\n",
              "  (3): ReLU()\n",
              "  (4): MaxPool2d(kernel_size=(2, 2), stride=(2, 2), dilation=(1, 1))\n",
              "  (5): Dropout(p=0.25)\n",
              "  (6): Conv2d (32, 64, kernel_size=(3, 3), stride=(1, 1))\n",
              "  (7): ReLU()\n",
              "  (8): Conv2d (64, 64, kernel_size=(3, 3), stride=(1, 1))\n",
              "  (9): ReLU()\n",
              "  (10): MaxPool2d(kernel_size=(2, 2), stride=(2, 2), dilation=(1, 1))\n",
              "  (11): Dropout(p=0.25)\n",
              "  (12): Flatten(\n",
              "  )\n",
              "  (13): Linear(in_features=576, out_features=256)\n",
              "  (14): ReLU()\n",
              "  (15): Dropout(p=0.5)\n",
              "  (16): Linear(in_features=256, out_features=10)\n",
              "  (17): Softmax()\n",
              ")"
            ]
          },
          "metadata": {
            "tags": []
          },
          "execution_count": 34
        }
      ]
    },
    {
      "metadata": {
        "id": "thCyHKUWqJ3W",
        "colab_type": "text"
      },
      "cell_type": "markdown",
      "source": [
        "# Choose the Loss Function and Optimizer\n",
        "\n",
        "Loss function (**criterion**) decides how the output can be compared to a class, which determines how good or bad the neural network performs. And the **optimizer** chooses a way to update the weight in order to converge to find the best weights in this neural network."
      ]
    },
    {
      "metadata": {
        "id": "B2PoTMHfqNM3",
        "colab_type": "code",
        "colab": {}
      },
      "cell_type": "code",
      "source": [
        "criterion = nn.CrossEntropyLoss()\n",
        "# optimizer = torch.optim.Adam(net.parameters(), lr=learning_rate)\n",
        "\n",
        "optimizer = torch.optim.RMSprop(params=net.parameters(), lr=learning_rate)\n",
        "lr_scheduler = torch.optim.lr_scheduler.ReduceLROnPlateau(optimizer, factor=0.5,\n",
        "                                                    patience=3,\n",
        "                                                    min_lr=0.00001)"
      ],
      "execution_count": 0,
      "outputs": []
    },
    {
      "metadata": {
        "id": "0FcGyxM3qciu",
        "colab_type": "text"
      },
      "cell_type": "markdown",
      "source": [
        "# Training the CNN Model"
      ]
    },
    {
      "metadata": {
        "id": "OZ1tRP830IY4",
        "colab_type": "code",
        "colab": {}
      },
      "cell_type": "code",
      "source": [
        "predicted_train = []\n",
        "true_train = []\n",
        "predicted_test = []\n",
        "true_test = []\n",
        "\n",
        "def is_last_epoch(epoch):\n",
        "    return epoch + 1 == num_epochs"
      ],
      "execution_count": 0,
      "outputs": []
    },
    {
      "metadata": {
        "id": "uimrfqAatZRj",
        "colab_type": "code",
        "colab": {
          "base_uri": "https://localhost:8080/",
          "height": 127
        },
        "outputId": "63d47cd0-0b75-4edb-880d-d25e760180a2"
      },
      "cell_type": "code",
      "source": [
        "!pip install tqdm\n",
        "from tqdm import tqdm"
      ],
      "execution_count": 49,
      "outputs": [
        {
          "output_type": "stream",
          "text": [
            "Collecting tqdm\n",
            "\u001b[?25l  Downloading https://files.pythonhosted.org/packages/d8/ca/6524dfba7a0e850d3fda223693779035ddc8bf5c242acd9ee4eb9e52711a/tqdm-4.23.3-py2.py3-none-any.whl (42kB)\n",
            "\u001b[K    100% |████████████████████████████████| 51kB 3.8MB/s \n",
            "\u001b[?25hInstalling collected packages: tqdm\n",
            "Successfully installed tqdm-4.23.3\n"
          ],
          "name": "stdout"
        }
      ]
    },
    {
      "metadata": {
        "id": "1bF9KDUAHpo2",
        "colab_type": "code",
        "colab": {}
      },
      "cell_type": "code",
      "source": [
        "losses = []\n",
        "\n",
        "def train_net(epoch):\n",
        "    net.train()  # set the net to \"training mode\"\n",
        "    \n",
        "    for i, (images, labels) in enumerate(tqdm(train_loader, desc='Training #{}'.format(epoch))):   # Load a batch of images with its (index, data, class)\n",
        "        # Conv2d expects data of shape (N, C, H, W) where N is batch size, C is channels, H is height, W is width\n",
        "        # images = images.view(-1, 1, 28, 28) # change images dimension from [64, 768] to a matrix [64, 1, 28, 28]\n",
        "        images = Variable(images)\n",
        "        labels = Variable(labels)\n",
        "        \n",
        "        if use_cuda:\n",
        "            images = images.cuda()\n",
        "            labels = labels.cuda()\n",
        "        \n",
        "        optimizer.zero_grad()                             # Intialize the hidden weight to all zeros\n",
        "        outputs = net(images)                             # Forward pass: compute the output class given a image\n",
        "        loss = criterion(outputs, labels)                 # Compute the loss: difference between the output class and the pre-given label\n",
        "        loss.backward()                                   # Backward pass: compute the weight\n",
        "        optimizer.step()                                  # Optimizer: update the weights of hidden nodes\n",
        "        \n",
        "        global losses\n",
        "        losses.append(loss.data[0])\n",
        "#         if (i+1) % 100 == 0:                              # Logging\n",
        "#             print('Epoch [%d/%d], Step [%d/%d], Loss: %.4f'\n",
        "#                  %(epoch+1, num_epochs, i+1, len(train_dataset)//batch_size, loss.data[0]))"
      ],
      "execution_count": 0,
      "outputs": []
    },
    {
      "metadata": {
        "id": "JP77KCH4H_ig",
        "colab_type": "code",
        "colab": {}
      },
      "cell_type": "code",
      "source": [
        "accuracy = []\n",
        "\n",
        "def validate_net(epoch):\n",
        "    net.eval()  # set the model to \"testing mode\" (won't update parameters)\n",
        "\n",
        "    correct = 0\n",
        "    total = 0\n",
        "    for images, labels in tqdm(validation_loader, desc='Validating #{}'.format(epoch)):\n",
        "        # images = images.view(-1, 1, 28, 28)\n",
        "        images = Variable(images)\n",
        "        \n",
        "        if use_cuda:\n",
        "            images = images.cuda()\n",
        "            labels = labels.cuda()\n",
        "\n",
        "\n",
        "        outputs = net(images)\n",
        "        _, predicted = torch.max(outputs.data, 1) # Choose the best class from the output: The class with the best score\n",
        "        total += labels.size(0)                    # Increment the total count\n",
        "        correct += (predicted == labels).sum()     # Increment the correct count\n",
        "        \n",
        "        if is_last_epoch(epoch):\n",
        "            global predicted_test\n",
        "            global true_test\n",
        "            true_test += labels.cpu().numpy().tolist()\n",
        "            predicted_test += predicted.cpu().numpy().tolist()\n",
        "    \n",
        "    \n",
        "    acc = correct / total\n",
        "    lr_scheduler.step(acc)\n",
        "    global accuracy\n",
        "    accuracy.append(acc)\n",
        "    #print('Accuracy: {}'.format(acc))"
      ],
      "execution_count": 0,
      "outputs": []
    },
    {
      "metadata": {
        "id": "_jW5sWaIqc_d",
        "colab_type": "code",
        "colab": {
          "base_uri": "https://localhost:8080/",
          "height": 757
        },
        "outputId": "386fbda6-b6b3-4653-db7b-3e891ccf6291"
      },
      "cell_type": "code",
      "source": [
        "for epoch in range(num_epochs):\n",
        "    train_net(epoch)\n",
        "    validate_net(epoch)"
      ],
      "execution_count": 58,
      "outputs": [
        {
          "output_type": "stream",
          "text": [
            "Training #0: 100%|██████████| 594/594 [00:07<00:00, 78.91it/s]\n",
            "Validating #0: 100%|██████████| 63/63 [00:00<00:00, 109.43it/s]\n",
            "Training #1: 100%|██████████| 594/594 [00:07<00:00, 78.55it/s]\n",
            "Validating #1: 100%|██████████| 63/63 [00:00<00:00, 116.70it/s]\n",
            "Training #2: 100%|██████████| 594/594 [00:07<00:00, 78.95it/s]\n",
            "Validating #2: 100%|██████████| 63/63 [00:00<00:00, 117.52it/s]\n",
            "Training #3: 100%|██████████| 594/594 [00:07<00:00, 78.77it/s]\n",
            "Validating #3: 100%|██████████| 63/63 [00:00<00:00, 118.54it/s]\n",
            "Training #4:  55%|█████▌    | 329/594 [00:04<00:03, 75.79it/s]"
          ],
          "name": "stderr"
        },
        {
          "output_type": "stream",
          "text": [
            "Training #4: 100%|██████████| 594/594 [00:07<00:00, 78.33it/s]\n",
            "Validating #4: 100%|██████████| 63/63 [00:00<00:00, 111.82it/s]\n",
            "Training #5: 100%|██████████| 594/594 [00:07<00:00, 79.04it/s]\n",
            "Validating #5: 100%|██████████| 63/63 [00:00<00:00, 113.91it/s]\n",
            "Training #6: 100%|██████████| 594/594 [00:07<00:00, 78.63it/s]\n",
            "Validating #6: 100%|██████████| 63/63 [00:00<00:00, 118.64it/s]\n",
            "Training #7: 100%|██████████| 594/594 [00:07<00:00, 79.20it/s]\n",
            "Validating #7: 100%|██████████| 63/63 [00:00<00:00, 111.57it/s]\n",
            "Training #8:  65%|██████▍   | 385/594 [00:04<00:02, 77.44it/s]"
          ],
          "name": "stderr"
        },
        {
          "output_type": "stream",
          "text": [
            "Training #8: 100%|██████████| 594/594 [00:07<00:00, 78.96it/s]\n",
            "Validating #8: 100%|██████████| 63/63 [00:00<00:00, 116.19it/s]\n",
            "Training #9: 100%|██████████| 594/594 [00:07<00:00, 78.87it/s]\n",
            "Validating #9: 100%|██████████| 63/63 [00:00<00:00, 110.74it/s]\n",
            "Training #10: 100%|██████████| 594/594 [00:07<00:00, 78.72it/s]\n",
            "Validating #10: 100%|██████████| 63/63 [00:00<00:00, 111.65it/s]\n",
            "Training #11: 100%|██████████| 594/594 [00:07<00:00, 79.01it/s]\n",
            "Validating #11: 100%|██████████| 63/63 [00:00<00:00, 113.38it/s]\n",
            "Training #12:  59%|█████▉    | 351/594 [00:04<00:03, 75.41it/s]"
          ],
          "name": "stderr"
        },
        {
          "output_type": "stream",
          "text": [
            "Training #12: 100%|██████████| 594/594 [00:07<00:00, 78.13it/s]\n",
            "Validating #12: 100%|██████████| 63/63 [00:00<00:00, 118.40it/s]\n",
            "Training #13: 100%|██████████| 594/594 [00:07<00:00, 79.21it/s]\n",
            "Validating #13: 100%|██████████| 63/63 [00:00<00:00, 121.95it/s]\n",
            "Training #14: 100%|██████████| 594/594 [00:07<00:00, 79.06it/s]\n",
            "Validating #14: 100%|██████████| 63/63 [00:00<00:00, 113.44it/s]\n",
            "Training #15: 100%|██████████| 594/594 [00:07<00:00, 78.59it/s]\n",
            "Validating #15: 100%|██████████| 63/63 [00:00<00:00, 114.35it/s]\n",
            "Training #16:  59%|█████▉    | 350/594 [00:04<00:03, 75.87it/s]"
          ],
          "name": "stderr"
        },
        {
          "output_type": "stream",
          "text": [
            "Training #16: 100%|██████████| 594/594 [00:07<00:00, 78.18it/s]\n",
            "Validating #16: 100%|██████████| 63/63 [00:00<00:00, 116.42it/s]\n",
            "Training #17: 100%|██████████| 594/594 [00:07<00:00, 78.86it/s]\n",
            "Validating #17: 100%|██████████| 63/63 [00:00<00:00, 112.11it/s]\n",
            "Training #18: 100%|██████████| 594/594 [00:07<00:00, 78.90it/s]\n",
            "Validating #18: 100%|██████████| 63/63 [00:00<00:00, 113.57it/s]\n",
            "Training #19: 100%|██████████| 594/594 [00:07<00:00, 78.51it/s]\n",
            "Validating #19: 100%|██████████| 63/63 [00:00<00:00, 109.17it/s]\n"
          ],
          "name": "stderr"
        }
      ]
    },
    {
      "metadata": {
        "id": "sdrhluBxy31s",
        "colab_type": "text"
      },
      "cell_type": "markdown",
      "source": [
        "# Plot the loss and accuracy curves for training and validation "
      ]
    },
    {
      "metadata": {
        "id": "4YuaMGURy2XZ",
        "colab_type": "code",
        "colab": {
          "base_uri": "https://localhost:8080/",
          "height": 347
        },
        "outputId": "3e374d7f-d4df-479d-dd06-445d411eb806"
      },
      "cell_type": "code",
      "source": [
        "\n",
        "fig, ax = plt.subplots(2,1)\n",
        "# ax[0].plot(history.history['loss'], color='b', label=\"Training loss\")\n",
        "ax[0].plot(losses, color='r', label=\"validation loss\",axes =ax[0])\n",
        "legend = ax[0].legend(loc='best', shadow=True)\n",
        "\n",
        "# ax[1].plot(history.history['acc'], color='b', label=\"Training accuracy\")\n",
        "ax[1].plot(accuracy, color='r',label=\"Validation accuracy\")\n",
        "legend = ax[1].legend(loc='best', shadow=True)"
      ],
      "execution_count": 68,
      "outputs": [
        {
          "output_type": "display_data",
          "data": {
            "image/png": "[encoded data removed]",
            "text/plain": [
              "<matplotlib.figure.Figure at 0x7f05353b6198>"
            ]
          },
          "metadata": {
            "tags": []
          }
        }
      ]
    },
    {
      "metadata": {
        "id": "m5igm_ErvLFb",
        "colab_type": "text"
      },
      "cell_type": "markdown",
      "source": [
        "# Plot Confusion Matrix"
      ]
    },
    {
      "metadata": {
        "id": "9-xenjk3vQ8Q",
        "colab_type": "code",
        "colab": {}
      },
      "cell_type": "code",
      "source": [
        "from matplotlib import pyplot as plt\n",
        "import itertools\n",
        "\n",
        "def plot_confusion_matrix(cm, classes, normalize=False,\n",
        "                          title='Confusion matrix', cmap=plt.cm.Blues,\n",
        "                          filesave=None):\n",
        "    \"\"\"\n",
        "    This function prints and plots the confusion matrix.\n",
        "    Normalization can be applied by setting `normalize=True`.\n",
        "    \"\"\"\n",
        "    np.set_printoptions(precision=2)\n",
        "    plt.figure(figsize=(7, 7))\n",
        "\n",
        "    if normalize:\n",
        "        cm = cm.astype('float') / cm.sum(axis=1)[:, np.newaxis]\n",
        "        print(\"Normalized confusion matrix\")\n",
        "    else:\n",
        "        print('Confusion matrix, without normalization')\n",
        "\n",
        "    plt.imshow(cm, interpolation='nearest', cmap=cmap)\n",
        "    plt.title(title)\n",
        "    plt.colorbar()\n",
        "    tick_marks = np.arange(len(classes))\n",
        "\n",
        "    plt.xticks(tick_marks, classes)\n",
        "\n",
        "    yticks = []\n",
        "    for i in (range(cm.shape[0])):\n",
        "        acc = cm[i, i] / np.sum(cm[i])\n",
        "        yticks.append(\"{} (acc={:.10f})\".format(i, acc))\n",
        "\n",
        "    plt.yticks(tick_marks, yticks)\n",
        "\n",
        "    fmt = '.2f' if normalize else 'd'\n",
        "    thresh = cm.max() / 2.\n",
        "    for i, j in itertools.product(range(cm.shape[0]), range(cm.shape[1])):\n",
        "        plt.text(j, i, format(cm[i, j], fmt),\n",
        "                 horizontalalignment=\"center\",\n",
        "                 color=\"white\" if cm[i, j] > thresh else \"black\")\n",
        "\n",
        "    plt.ylabel('True label')\n",
        "    plt.xlabel('Predicted label')\n",
        "\n",
        "    if filesave is None:\n",
        "        plt.tight_layout()\n",
        "#         plt.show()\n",
        "    else:\n",
        "        plt.savefig(filesave, bbox_inches='tight')"
      ],
      "execution_count": 0,
      "outputs": []
    },
    {
      "metadata": {
        "id": "lwBoXbFgvYY_",
        "colab_type": "code",
        "colab": {
          "base_uri": "https://localhost:8080/",
          "height": 527
        },
        "outputId": "9eefe09b-0dad-408d-afce-a0f1dd92cd4d"
      },
      "cell_type": "code",
      "source": [
        "from sklearn.metrics import confusion_matrix\n",
        "\n",
        "# cnf_matrix = confusion_matrix(true_train, predicted_train)\n",
        "# plot_confusion_matrix(cm=cnf_matrix, classes=list(range(10)),\n",
        "#                       title='Train data confusion matrix')\n",
        "\n",
        "cnf_matrix = confusion_matrix(true_test, predicted_test)\n",
        "plot_confusion_matrix(cm=cnf_matrix, classes=list(range(10)),\n",
        "                      title='Test data confusion matrix')"
      ],
      "execution_count": 70,
      "outputs": [
        {
          "output_type": "stream",
          "text": [
            "Confusion matrix, without normalization\n"
          ],
          "name": "stdout"
        },
        {
          "output_type": "display_data",
          "data": {
            "image/png": "[encoded data removed]",
            "text/plain": [
              "<matplotlib.figure.Figure at 0x7f0535244710>"
            ]
          },
          "metadata": {
            "tags": []
          }
        }
      ]
    },
    {
      "metadata": {
        "id": "DbgvVDUorDXO",
        "colab_type": "text"
      },
      "cell_type": "markdown",
      "source": [
        "# Testing the CNN Model\n",
        "\n",
        "Similar to training the neural network, we also need to load batches of test images and collect the outputs. The differences are that:\n",
        "\n",
        "1. No loss & weights calculation\n",
        "2. No weights update\n",
        "3. Has correct prediction calculation\n"
      ]
    },
    {
      "metadata": {
        "id": "vRvMlpuqrF1v",
        "colab_type": "code",
        "colab": {}
      },
      "cell_type": "code",
      "source": [
        "net.eval() \n",
        "correct = 0\n",
        "total = 0\n",
        "for images, labels in test_loader:\n",
        "    images = Variable(images.view(-1, 28*28))\n",
        "    \n",
        "    if use_cuda and torch.cuda.is_available():\n",
        "        images = images.cuda()\n",
        "        labels = labels.cuda()\n",
        "    \n",
        "    \n",
        "    outputs = net(images)\n",
        "    _, predicted = torch.max(outputs.data, 1)  # Choose the best class from the output: The class with the best score\n",
        "    total += labels.size(0)                    # Increment the total count\n",
        "    correct += (predicted == labels).sum()     # Increment the correct count\n",
        "    \n",
        "print('Accuracy of the network on the 10K test images: %d %%' % (100 * correct / total))"
      ],
      "execution_count": 0,
      "outputs": []
    },
    {
      "metadata": {
        "id": "uNm9PGL-rKSy",
        "colab_type": "text"
      },
      "cell_type": "markdown",
      "source": [
        "# Save the trained FNN Model for future use\n",
        "\n",
        "We save the trained model as a pickle that can be loaded and used later."
      ]
    },
    {
      "metadata": {
        "id": "uWBIPLxYrJRV",
        "colab_type": "code",
        "colab": {}
      },
      "cell_type": "code",
      "source": [
        "torch.save(net.state_dict(), 'cnn_model.pkl')"
      ],
      "execution_count": 0,
      "outputs": []
    }
  ]
}